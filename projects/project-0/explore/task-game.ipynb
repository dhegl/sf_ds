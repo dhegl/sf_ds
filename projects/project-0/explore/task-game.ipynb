{
 "cells": [
  {
   "cell_type": "markdown",
   "metadata": {},
   "source": [
    "# <a name=\"ProjectHeader\"></a> Проект А0\n",
    "***\n",
    "### *_Иследование реализация алгоритма \"Угадать загаданное компьютером число за минимальное количество попыток\"._*  "
   ]
  },
  {
   "cell_type": "markdown",
   "metadata": {},
   "source": [
    "\n",
    "### Константы модуля\n",
    "\n",
    "---\n",
    "\n",
    "+ **`RANDOM_SEED`**  *Число используемое для инициализации генератора псевдослучайной последовательности. При значении `0` начальная инициализация отключена.* \n",
    "+ **`MAX_PASSES`**  *Количество запусков проверяемой функции.*\n",
    "+ **`MAX_RUNDOM_SIZE`**  *Максимальное значение генерируемого числа.*\n",
    "- **`_DBG`**  *Включение режима внутримодульной отладки(вывод промежуточных значени). По умолчанию отключено.* \n",
    "\n"
   ]
  },
  {
   "cell_type": "markdown",
   "metadata": {},
   "source": [
    "\n",
    "\n",
    "### Импортируемые модули\n",
    "\n",
    "> *Для генерации случайного числа используется функция `random.randint()` из библиотеки `NumPy`*\n"
   ]
  },
  {
   "cell_type": "code",
   "execution_count": 1,
   "metadata": {},
   "outputs": [],
   "source": [
    "import numpy as np\n",
    "\n",
    "RANDOM_SEED = 5\n",
    "\"\"\"См. np.random.seed(). Zerro - seed setup off\"\"\"\n",
    "MAX_PASSES = 1000\n",
    "\"\"\"Максимальное количество проходов проверки\"\"\"\n",
    "MAX_RUNDOM_SIZE = 100\n",
    "\"\"\"Максимальное загадываемое число\"\"\"\n",
    "_DBG = 0\n",
    "\"\"\"Вкл. отладочные принты\"\"\"\n",
    "\n",
    "#!!! Блок инициализации ГПСЧ перенесен из функции score_game() в блок инициализации модуля\n",
    "if RANDOM_SEED:\n",
    "    np.random.seed(RANDOM_SEED) # фиксируем сид для воспроизводимости"
   ]
  },
  {
   "cell_type": "markdown",
   "metadata": {},
   "source": [
    "### Функция многопроходной проверки. Сбор и вывод статистики.\n",
    "\n",
    "---\n",
    "\n",
    "~~~python\n",
    "def score_game(random_predict) -> int\n",
    "~~~\n",
    "Функция многократной проверки алгоритма \"угадывания\", c накоплением резултатов и выводом статистики. Сохраняет количество попаданий на проход в локальном списке. Ее единственным параметром является функция реализующая алгортим \"угадывания\" числа в диапазоне `[1 - MAX_RANDOM_SIZE]` вызываемая данной функций с передаваемым параметром - внутренней функцией: \n",
    "#### Функция контроля\n",
    "~~~python\n",
    "    def verify_rnd_number(number:int=1) -> int\n",
    "~~~  \n",
    "> реализующая механизм контроля \"угадывания\" числа `number` и возвращающая `0` в случае \"угадывания\", `-1` если предложенное число меньше \"загаданного\" и `1` если предложенное число больше \"загаданного\". Фнутрення функция реализует механизм замыкания с локальной переменной rnd_num_ref,  являющейся ссылкой на список из одного значения - загаданного числа. *Логически скрывает \"Загаданное\" число от механиза \"угадывания\".*\n",
    "\n",
    "В завершении `score_game()` выводит максимальное, минимальное и среднее количество затраченных попыток \"угадывания\" из общей выборки на 1000 проходов. Количество попыток \"угадывания\" за проход должна возвращать реализуемая функция, передаваемая параметром `random_predict`.\n"
   ]
  },
  {
   "cell_type": "code",
   "execution_count": 2,
   "metadata": {},
   "outputs": [],
   "source": [
    "# для ограничения количества попыток\n",
    "class GameOverError(OverflowError):\n",
    "    pass\n",
    "\n",
    "def score_game(random_predict) -> int:\n",
    "    \"\"\"\n",
    "        За какое количество попыток в среднем из 1000 подходов угадывает наш алгоритм\n",
    "    Args:\n",
    "        random_predict (f: function([int])): функция угадывания\n",
    "    Returns:\n",
    "        int: среднее количество попыток\n",
    "    \"\"\"\n",
    "\n",
    "    # список-ссылка на угадываемое число. (в замыкание)\n",
    "    rnd_num_ref = [0]\n",
    "    # счетчик попыток. (в замыкание)\n",
    "    count_ref = [0]\n",
    "    \n",
    "    def verify_rnd_number(number:int=1) -> int:\n",
    "        \"\"\"\n",
    "            Проверка числа на попадание\n",
    "        Args:\n",
    "            number (int, optional): Проверяемое число. Defaults to 1.\n",
    "\n",
    "        Returns:\n",
    "            int: 0 - если проверяемое число угадано\n",
    "                 1 - если проверяемое число <меньше> загаданного\n",
    "                -1 - если проверяемое число <больше> загаданного\n",
    "        \"\"\"\n",
    "        nonlocal rnd_num_ref, count_ref\n",
    "        \n",
    "        if not type(number) is int:\n",
    "            raise ValueError(f'value: [{number}] is not integer')\n",
    "            #return None\n",
    "\n",
    "        if count_ref[0] >= MAX_RUNDOM_SIZE:\n",
    "            raise GameOverError('  Количество попыток \"угадывания\", увы, исчерпано :(')\n",
    "        #TEST raise GameOverError('  Количество попыток \"угадывания\", увы, исчерпано :(')\n",
    "                \n",
    "        count_ref[0] += 1\n",
    "\n",
    "        if rnd_num_ref[0] < number:\n",
    "            return -1\n",
    "        elif rnd_num_ref[0] > number:\n",
    "            return 1\n",
    "        else:\n",
    "            return 0\n",
    "\n",
    "    count_ls = [] # список для сохранения количества попыток\n",
    "\n",
    "    #if RANDOM_SEED:\n",
    "    #    np.random.seed(RANDOM_SEED) # фиксируем сид для воспроизводимости\n",
    "    random_array = np.random.randint(1, MAX_RUNDOM_SIZE + 1, size=(MAX_PASSES)) # загадали список чисел\n",
    "\n",
    "    for number in random_array:\n",
    "        #TODO: change number -> rnd_num_ref[0] // Проверить\n",
    "        rnd_num_ref[0] = number\n",
    "        count_ref[0] = 0\n",
    "        try:\n",
    "        #\n",
    "        # Запускаем наш \"черный ящик\" с функцией-ответчиком, фиксируем число \"попыток\"\n",
    "        #\n",
    "            random_predict(verify_rnd_number)\n",
    "        #\n",
    "        except Exception as e:\n",
    "            print(\"\\n\\nОшибка выполнения \\\"random_predict()\\\" :\")\n",
    "            if isinstance(e, GameOverError):\n",
    "                print(e)\n",
    "                exit(1)    \n",
    "            else:\n",
    "                #raise (e.with_traceback)\n",
    "                raise e\n",
    "            \n",
    "        count_ls.append(count_ref[0])\n",
    "\n",
    "    score = int(np.mean(count_ls))   # находим среднее количество попыток\n",
    "    min_hits = min(count_ls)         # мин\n",
    "    max_hits = max(count_ls)         # макс\n",
    "\n",
    "    print(f'\\nВаш алгоритм угадывает число в среднем за: {score} попыток. Мин: {min_hits} , Макс: {max_hits}\\n')\n",
    "    return(score)\n"
   ]
  },
  {
   "cell_type": "markdown",
   "metadata": {},
   "source": [
    "### Функция алгоритма \"угадывания\" случайного числа\n",
    "\n",
    "---\n",
    "\n",
    "#### Терминология\n",
    "+ *\"Загаданное\" число*  - целое случайное число в заданном диапазоне, полученное от генератора случайных чисел библиотеки `NumPy` передаваемое функцией проверки в функцию контроля(через замыкание). Должно быть угадано за определенное количество попыток проверяемой функцией. *Используется псевдослучаная последовательность.  См.`random.seed()`*\n",
    "+ *\"Угадываемое\" число* - целое число в заданном диапазоне передоваемое проверяемой функцией в функцию контроля, как возможное \"Загаданное\"\n",
    "\n",
    "---\n",
    "\n",
    "<a name=\"AlgDesc\"></a> \n",
    "#### Алгоритм угадывания \n",
    "\n",
    "    Алгоритм угадывания основан на уменьшения диапазона в котором находится искомое \"угадываемое\" число. Случайно сгенерированное число передается функции контроля, которая возвращает значение \"попадание\". Или в случие не \"попадания\", возвращает больше или меньше \"загаданное\" число переданому. На основании последнего расчитывается новый диапазон для генерации ГСЧ \"угадываемого\" числа на следующей итерации.\n",
    "---\n",
    "\n",
    "Алгоритм \"угадывания\" числа реализован в модуле функцией:\n",
    "\n",
    "~~~python\n",
    "def random_predict(verify:callable) -> int\n",
    "~~~\n",
    "\n",
    "возвращающей количество попыток до успешного \"угадывания\" включительно. Входным параметром `verify` должна быть функция принимающая \"угадываемое\" число и возвращающая `0` в случии успеха. Если переданное число больше \"угадываемого\", то функция должна вернуть `-1`, если меньше, то `1`. \n",
    "\n",
    "> - *Пример реализации функции контроля в виде [lambda-функции](#ControlFunction \"Функция контроля\")*\n"
   ]
  },
  {
   "cell_type": "code",
   "execution_count": 6,
   "metadata": {},
   "outputs": [],
   "source": [
    "\n",
    "def random_predict(verify:callable) -> int:\n",
    "    \"\"\"\n",
    "        Рандомно угадываем число\n",
    "        \n",
    "    Args:\n",
    "        verify : function(int)  функция проверяющая на попадание\n",
    "            Принимает на вход угадывемое целое число.\n",
    "            \n",
    "            Дожна возвращать:\n",
    "                0  - число угадано,\n",
    "                1  - число больше предпологаемого,\n",
    "                -1 - число меньше предпологаемого\n",
    "\n",
    "    Returns:\n",
    "        int: Число попыток\n",
    "    \"\"\"\n",
    "    count = 0\n",
    "    start_rnd_range = 1\n",
    "    end_rnd_range = MAX_RUNDOM_SIZE\n",
    "\n",
    "    # кол-во левых и правых \"вилок\" для отладки\n",
    "    ch_rng_left  = 0\n",
    "    ch_rng_right = 0\n",
    "\n",
    "    while True:\n",
    "\n",
    "        count += 1\n",
    "\n",
    "        # случайное предполагаемое число\n",
    "        predict_number = np.random.randint(start_rnd_range, end_rnd_range + 1) \n",
    "\n",
    "        control = verify(predict_number)\n",
    "        if control == 0:\n",
    "            if _DBG:  \n",
    "                print(predict_number, ' - c:',count, ' <> ',ch_rng_left, ':',ch_rng_right)\n",
    "            break\n",
    "        elif control == 1:\n",
    "            start_rnd_range = predict_number\n",
    "            ch_rng_right += 1\n",
    "        elif control == -1:\n",
    "            end_rnd_range = predict_number\n",
    "            ch_rng_left += 1\n",
    "        else:\n",
    "            raise ValueError(\"Control out of range. Mast be in [-1,0,1]\")\n",
    "\n",
    "    return count\n"
   ]
  },
  {
   "cell_type": "markdown",
   "metadata": {},
   "source": [
    "<a name=\"ControlFunction\"></a>\n",
    "## Проверка работы функции \"Угадывания\"\n",
    "[К описанию алгоритма](#AlgDesc \"Описание алгоритма\")\n",
    "\n",
    "*с реализацией функции контроля, как лямбда-функция*\n",
    "\n",
    "~~~python\n",
    "_control_verify = lambda x : ... -> Literal[-1, 0, 1]\n",
    "~~~\n",
    "\n",
    "> *Для запуска проверки не забудте выполнить ячейки с импортом библиотеки `NumPy`, определением констант и реализацией 'random_predict()'  \"Загаданное\" значениние укажите в переменной _control_value*  "
   ]
  },
  {
   "cell_type": "code",
   "execution_count": 4,
   "metadata": {},
   "outputs": [
    {
     "name": "stdout",
     "output_type": "stream",
     "text": [
      "Количество попыток: 12\n"
     ]
    }
   ],
   "source": [
    "# проверка random_predict(control_function)\n",
    "_control_value = MAX_RUNDOM_SIZE // 2\n",
    "_control_verify = lambda x : 0 if x == _control_value else -1 if _control_value < x else 1 \n",
    "print(f'Количество попыток: {random_predict(_control_verify)}')"
   ]
  },
  {
   "cell_type": "markdown",
   "metadata": {},
   "source": [
    "## Вызов функции многопроходной проверки, накопления и вывода статистики\n",
    "\n",
    "> *Для запуска проверки не забудте выполнить ячейки с импортом библиотеки `NumPy`, определением констант и ячеек с реализаций функций 'random_predict()' и 'score_game()'*"
   ]
  },
  {
   "cell_type": "code",
   "execution_count": 5,
   "metadata": {},
   "outputs": [
    {
     "name": "stdout",
     "output_type": "stream",
     "text": [
      "\n",
      "Ваш алгоритм угадывает число в среднем за: 9 попыток. Мин: 1 , Макс: 31\n",
      "\n"
     ]
    }
   ],
   "source": [
    "if __name__ == \"__main__\":\n",
    "    score_game(random_predict)"
   ]
  }
 ],
 "metadata": {
  "kernelspec": {
   "display_name": "Python 3 (ipykernel)",
   "language": "python",
   "name": "python3"
  },
  "language_info": {
   "codemirror_mode": {
    "name": "ipython",
    "version": 3
   },
   "file_extension": ".py",
   "mimetype": "text/x-python",
   "name": "python",
   "nbconvert_exporter": "python",
   "pygments_lexer": "ipython3",
   "version": "3.7.9"
  },
  "vscode": {
   "interpreter": {
    "hash": "d49c3f6d6dd49f9272b571d9fad348ab55b8c6c3f691520d74ed0af1f69c3dd8"
   }
  }
 },
 "nbformat": 4,
 "nbformat_minor": 2
}
