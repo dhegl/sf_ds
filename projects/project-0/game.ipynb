{
 "cells": [
  {
   "cell_type": "markdown",
   "metadata": {},
   "source": [
    "<a href=\"https://skillfactory.ru/courses/data-science\">\n",
    "    <img src=\"https://raw.githubusercontent.com/dhegl/sf_ds/64c052f95af5d042844ed56f765c2cbb566d1680/main/static/small.svg\" alt=\"Онлайн-школа SkillFactory Курсы по Data Science\" width=\"120px\" align=\"right\" >\n",
    "</a>\n",
    "\n",
    "# Модуль game\n",
    "### Пример использования"
   ]
  },
  {
   "cell_type": "code",
   "execution_count": 3,
   "metadata": {},
   "outputs": [
    {
     "name": "stdout",
     "output_type": "stream",
     "text": [
      "Сид для ГСЧ: 1\n",
      "Кол-во запусков: 1000\n",
      "Макс. число: 100\n",
      "\n",
      "Ваш алгоритм угадывает число в среднем за: 9 попыток. Мин: 1 , Макс: 27\n",
      "\n"
     ]
    }
   ],
   "source": [
    "import game\n",
    "\"\"\"\n",
    "     Параметры инициализации меняются (если нужно) \n",
    "    до импорта функций.\n",
    "\"\"\"\n",
    "#game.MAX_PASSES      = 4096\n",
    "#game.RANDOM_SEED     = 16\n",
    "#game.MAX_RUNDOM_SIZE = 1024\n",
    "\n",
    "from game import score_game\n",
    "from game import random_predict\n",
    "\n",
    "print(\"Сид для ГСЧ:\",     game.RANDOM_SEED) \n",
    "print(\"Кол-во запусков:\", game.MAX_PASSES)\n",
    "print(\"Макс. число:\",     game.MAX_RUNDOM_SIZE)\n",
    "\n",
    "\n",
    "if __name__ == \"__main__\":\n",
    "    score_game(random_predict)    "
   ]
  }
 ],
 "metadata": {
  "kernelspec": {
   "display_name": "Python 3 (ipykernel)",
   "language": "python",
   "name": "python3"
  },
  "language_info": {
   "codemirror_mode": {
    "name": "ipython",
    "version": 3
   },
   "file_extension": ".py",
   "mimetype": "text/x-python",
   "name": "python",
   "nbconvert_exporter": "python",
   "pygments_lexer": "ipython3",
   "version": "3.7.9"
  },
  "vscode": {
   "interpreter": {
    "hash": "d49c3f6d6dd49f9272b571d9fad348ab55b8c6c3f691520d74ed0af1f69c3dd8"
   }
  }
 },
 "nbformat": 4,
 "nbformat_minor": 2
}
