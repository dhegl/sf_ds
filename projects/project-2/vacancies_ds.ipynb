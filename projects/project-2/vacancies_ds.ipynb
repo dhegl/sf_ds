{
  "cells": [
    {
      "cell_type": "markdown",
      "metadata": {
        "id": "N4LJs6qtYxvg"
      },
      "source": [
        "<a href=\"https://skillfactory.ru/\">\n",
        "    <img src=\"https://raw.githubusercontent.com/dhegl/sf_ds/64c052f95af5d042844ed56f765c2cbb566d1680/main/static/medium.svg\" alt=\"Онлайн-школа SkillFactory\" width=\"160px\" align=\"right\" />\n",
        "</a>"
      ]
    },
    {
      "cell_type": "markdown",
      "metadata": {
        "id": "oFNudGqjYxvl"
      },
      "source": [
        "# Проект 2. Анализ вакансий по информации в базе данных (PostgreSQL)\n",
        "\n",
        "*Анализ вакансий на основании данных, хранящихся в СУБД PostgreSQL, о вакансиях, работодателях и сферах их деятельности*\n",
        "\n",
        "*Содержание*\n",
        "\n",
        "\n",
        "*  Требования к оформлению учебной презентации\n",
        "*  Решения и ответы на этапные вопросы по проекту в формате SQL запросов. \n",
        "    *  Выводы на основание полученных данных\n",
        "*  Дополнительный анализ\n",
        "*  Общий вывод"
      ]
    },
    {
      "cell_type": "markdown",
      "metadata": {
        "id": "arq8fdXnYxvn"
      },
      "source": [
        "### Анализ данных о вакансиях и работодателях.\n",
        "\n",
        "*Требования к оформлению*\n",
        "\n",
        "\n",
        "Сделайте выводы не только на основе данных: попробуйте также проанализировать, за счёт чего получились именно такие цифры, постарайтесь увидеть тенденции, сделать прогнозы. Там, где это потребуется, проведите дополнительные исследования данных.\n",
        "\n",
        "---\n",
        "\n",
        "Необходимо сделать как отдельные выводы по результатам каждого блока заданий, так и один общий вывод по всем вакансиям, имеющимся в базе данных:\n",
        "\n",
        "-  Каких вакансий много?\n",
        "-  Что можно сказать о рынке труда в различных городах?\n",
        "-  Какие ещё интересные исследования можно провести?\n",
        "\n",
        "Вы можете добавить любые свои рассуждения и умозаключения, к которым пришли в процессе работы. \n",
        "\n",
        "\n",
        "Формат ноутбука с решением:\n",
        "\n",
        "1.  Номер задания.\n",
        "2.  Код для получения ответа.\n",
        "3.  Результат запроса.\n",
        "4.  Выводы по блоку заданий.\n",
        "5.  Общий вывод в конце по результатам анализа, имеющихся данных по вакансиям.\n"
      ]
    },
    {
      "cell_type": "markdown",
      "metadata": {
        "id": "aebCgUpRYxvo"
      },
      "source": [
        "### Установка и импорт необходимых модулей Python"
      ]
    },
    {
      "cell_type": "code",
      "execution_count": 1,
      "metadata": {
        "colab": {
          "base_uri": "https://localhost:8080/"
        },
        "id": "9t7ISwUjYxvp",
        "outputId": "842dfe84-3d35-48c7-f68e-802dcf16aac1"
      },
      "outputs": [],
      "source": [
        "## (!) Для работы с презентацией раскоментируйте следующий строки для установки нужных модулей\n",
        "\n",
        "# %pip install sqlalchemy==1.4.46\n",
        "# %pip install ipython-sql==0.4.1\n",
        "# %pip install lxml==4.9.2"
      ]
    },
    {
      "cell_type": "code",
      "execution_count": 1,
      "metadata": {
        "id": "OjF0AGpgYxvr"
      },
      "outputs": [],
      "source": [
        "import pandas as pd\n",
        "import sqlalchemy as sa\n",
        "import psycopg2 as pg\n",
        "\n",
        "## Работаем с ipython-sql расширением\n",
        "#%load_ext sql\n",
        "%reload_ext sql\n",
        "## Отключить отображение подключений при запросе\n",
        "%config SqlMagic.displaycon = False\n",
        "## \n",
        "connections:dict"
      ]
    },
    {
      "cell_type": "markdown",
      "metadata": {
        "id": "w8V-U6QwYxvr"
      },
      "source": [
        "![WARNING](https://raw.githubusercontent.com/dhegl/sf_ds/main/main/static/warning.png)  \n",
        "\n",
        "\n",
        ">**Данные авторизации, необходимые для подключения к базе данных учебной платформы удалены из презентации.**\n",
        "\n",
        "*Для подключения необходимо указать значения для подключения к БД в следующих переменных в ячейке ниже:*  \n",
        "```\n",
        "DBNAME = ''\n",
        "USER = ''\n",
        "PASSWORD = ''\n",
        "HOST = ''\n",
        "PORT = \n",
        "```"
      ]
    },
    {
      "cell_type": "code",
      "execution_count": 2,
      "metadata": {
        "id": "Rz6z6HS5Yxvs"
      },
      "outputs": [],
      "source": [
        "### skillfactory database login\n",
        "DBNAME = ''\n",
        "USER = ''\n",
        "PASSWORD = ''\n",
        "HOST = ''\n",
        "PORT = 5432\n"
      ]
    },
    {
      "cell_type": "code",
      "execution_count": 12,
      "metadata": {
        "colab": {
          "base_uri": "https://localhost:8080/"
        },
        "id": "UiehPTcUYxvs",
        "outputId": "06776f20-a71b-4a4c-ef3d-1c3119ebcd8e"
      },
      "outputs": [],
      "source": [
        "### При перезагрузке ноутбука удаляем действующие подключения %sql\n",
        "### \n",
        "# connections = %sql -l\n",
        "# ##print('connections:', connections)\n",
        "# ##[c.session.close() for c in connections.values()]\n",
        "# for cnn in connections.values(): \n",
        "#     cnn.session.close()\n",
        "# connections.clear()\n",
        "\n",
        "engine = sa.create_engine(f'postgresql://{USER}:{PASSWORD}@{HOST}:{PORT}/{DBNAME}') #localhost:5432\n",
        "%sql $engine.url\n",
        "### %sql postgresql://$USER:$PASSWORD@$HOST:$PORT/$DBNAME\n",
        "%sql -l"
      ]
    },
    {
      "cell_type": "markdown",
      "metadata": {
        "id": "zCq526uyYxvt"
      },
      "source": [
        "#### Таблицы, поля и типы данных базы данных по вакансиям\n",
        "```\n",
        "areas\n",
        "  id    integer\tИдентификатор города\n",
        "  name\ttext\tНазвание города\n",
        "\n",
        "employers\n",
        "  id    integer\tНомер работодателя\n",
        "  name  text\tНазвание работодателя\n",
        "  area  integer\tРегион регистрации\n",
        "\n",
        "employers_industries\n",
        "  employer_id\tinteger             ID работодателя\n",
        "  industry_id\tcharacter varying   ID сферы деятельности\n",
        "\n",
        "industries\n",
        "  id    character varying   ID сферы деятельности\n",
        "  name  text                Название сферы деятельности\n",
        "\n",
        "vacancies\n",
        "  id          integer ID вакансии\n",
        "  name        text    Название вакансии\n",
        "  area_id     integer ID региона вакансии\n",
        "  employer_id integer ID работодателя\n",
        "  employment  text    Тип трудоустройства\n",
        "  experience  text    Требования к опыту\n",
        "  key_skills  text    Ключевые навыки\n",
        "  salary_from integer Нижняя граница зарплатной вилки\n",
        "  salary_to   integer Верняя граница зарплатной вилки\n",
        "  schedule    text    Тип рабочего графика\n",
        "```"
      ]
    },
    {
      "cell_type": "markdown",
      "metadata": {
        "id": "XkYkMFkaYxvu"
      },
      "source": [
        "## Ответы на этапные задания модуля (проекта)"
      ]
    },
    {
      "cell_type": "markdown",
      "metadata": {
        "id": "q0l171hTYxvv"
      },
      "source": [
        "##### Задания 3.1 - 3.4"
      ]
    },
    {
      "cell_type": "code",
      "execution_count": null,
      "metadata": {
        "colab": {
          "base_uri": "https://localhost:8080/",
          "height": 165
        },
        "id": "Y2-Se1HGYxvw",
        "outputId": "f1e5ebb5-be12-4f36-f83a-361dd0031f5d"
      },
      "outputs": [
        {
          "name": "stdout",
          "output_type": "stream",
          "text": [
            "5 rows affected.\n"
          ]
        },
        {
          "data": {
            "text/html": [
              "<table>\n",
              "    <tr>\n",
              "        <th>table</th>\n",
              "        <th>count</th>\n",
              "    </tr>\n",
              "    <tr>\n",
              "        <td>vacancies</td>\n",
              "        <td>49197</td>\n",
              "    </tr>\n",
              "    <tr>\n",
              "        <td>employers_industries</td>\n",
              "        <td>32333</td>\n",
              "    </tr>\n",
              "    <tr>\n",
              "        <td>employers</td>\n",
              "        <td>23501</td>\n",
              "    </tr>\n",
              "    <tr>\n",
              "        <td>areas</td>\n",
              "        <td>1362</td>\n",
              "    </tr>\n",
              "    <tr>\n",
              "        <td>industries</td>\n",
              "        <td>294</td>\n",
              "    </tr>\n",
              "</table>"
            ],
            "text/plain": [
              "[('vacancies', 49197),\n",
              " ('employers_industries', 32333),\n",
              " ('employers', 23501),\n",
              " ('areas', 1362),\n",
              " ('industries', 294)]"
            ]
          },
          "execution_count": 43,
          "metadata": {},
          "output_type": "execute_result"
        }
      ],
      "source": [
        "%%sql\n",
        "\n",
        "--  В виду достаточной наглядности и небольшой сложности всех запросов призентации,\n",
        "-- комментарии SQL в запросах не используются, что бы не ухудшать визуальное оценку \n",
        "-- SQL кода проверяющим, за исключением закоментированных вариаций самого запроса.\n",
        "\n",
        "SELECT      'areas' \"table\", COUNT(*) FROM areas      UNION\n",
        "SELECT  'employers' \"table\", COUNT(*) FROM employers  UNION\n",
        "SELECT  'vacancies' \"table\", COUNT(*) FROM vacancies  UNION\n",
        "SELECT 'industries' \"table\", COUNT(*) FROM industries UNION\n",
        "SELECT 'employers_industries' \"table\", COUNT(*) FROM employers_industries\n",
        "-- ORDER BY \"table\"\n",
        "ORDER BY count DESC;"
      ]
    },
    {
      "cell_type": "markdown",
      "metadata": {
        "id": "ek4h744hYxvx"
      },
      "source": [
        "Вывод\n",
        "\n",
        "Количество данных, предоставленных в БД, достаточно для проведения исследования и базового анализа в рамках учебного проекта."
      ]
    },
    {
      "cell_type": "markdown",
      "metadata": {
        "id": "1hE1YKEPYxvy"
      },
      "source": [
        "#####  Задание 4.1\n",
        "  Выберите пятёрку лидеров по количеству вакансий из регионов"
      ]
    },
    {
      "cell_type": "code",
      "execution_count": null,
      "metadata": {
        "colab": {
          "base_uri": "https://localhost:8080/",
          "height": 165
        },
        "id": "S3IigrbnYxvz",
        "outputId": "43b92e27-49b2-46ad-b751-bd5c33ed6066"
      },
      "outputs": [
        {
          "name": "stdout",
          "output_type": "stream",
          "text": [
            "5 rows affected.\n"
          ]
        },
        {
          "data": {
            "text/html": [
              "<table>\n",
              "    <tr>\n",
              "        <th>name</th>\n",
              "        <th>cnt</th>\n",
              "    </tr>\n",
              "    <tr>\n",
              "        <td>Москва</td>\n",
              "        <td>5333</td>\n",
              "    </tr>\n",
              "    <tr>\n",
              "        <td>Санкт-Петербург</td>\n",
              "        <td>2851</td>\n",
              "    </tr>\n",
              "    <tr>\n",
              "        <td>Минск</td>\n",
              "        <td>2112</td>\n",
              "    </tr>\n",
              "    <tr>\n",
              "        <td>Новосибирск</td>\n",
              "        <td>2006</td>\n",
              "    </tr>\n",
              "    <tr>\n",
              "        <td>Алматы</td>\n",
              "        <td>1892</td>\n",
              "    </tr>\n",
              "</table>"
            ],
            "text/plain": [
              "[('Москва', 5333),\n",
              " ('Санкт-Петербург', 2851),\n",
              " ('Минск', 2112),\n",
              " ('Новосибирск', 2006),\n",
              " ('Алматы', 1892)]"
            ]
          },
          "execution_count": 44,
          "metadata": {},
          "output_type": "execute_result"
        }
      ],
      "source": [
        "%%sql\n",
        "\n",
        "SELECT \n",
        "  a.name,\n",
        "  COUNT(v.area_id) cnt\n",
        "FROM vacancies v\n",
        "JOIN areas a ON v.area_id = a.id\n",
        "GROUP BY v.area_id, a.name\n",
        "ORDER BY cnt DESC\n",
        "LIMIT 5;\n"
      ]
    },
    {
      "cell_type": "markdown",
      "metadata": {
        "id": "AClaijgPYxv0"
      },
      "source": [
        "Вывод\n",
        "\n",
        "Ожидаемо, что столица будет лидировать по количеству востребованных вакансий. При несколько выделяющемся Санкт-Петербурге, в остальных 4-х крупных городах СНГ количество вакансий примерно одинаково."
      ]
    },
    {
      "cell_type": "markdown",
      "metadata": {
        "id": "0BumRuwJYxv0"
      },
      "source": [
        "##### Задание 4.2\n",
        "  У какого количества вакансий заполнено хотя бы одно из двух полей с зарплатой?"
      ]
    },
    {
      "cell_type": "code",
      "execution_count": null,
      "metadata": {
        "colab": {
          "base_uri": "https://localhost:8080/",
          "height": 80
        },
        "id": "qn6kLgYpYxv1",
        "outputId": "f9a4525a-19b7-42f2-9b7b-59a5a578ec1b"
      },
      "outputs": [
        {
          "name": "stdout",
          "output_type": "stream",
          "text": [
            "1 rows affected.\n"
          ]
        },
        {
          "data": {
            "text/html": [
              "<table>\n",
              "    <tr>\n",
              "        <th>count</th>\n",
              "    </tr>\n",
              "    <tr>\n",
              "        <td>24073</td>\n",
              "    </tr>\n",
              "</table>"
            ],
            "text/plain": [
              "[(24073,)]"
            ]
          },
          "execution_count": 46,
          "metadata": {},
          "output_type": "execute_result"
        }
      ],
      "source": [
        "%%sql\n",
        "\n",
        "SELECT \n",
        "  count(*)\n",
        "FROM vacancies v\n",
        "WHERE v.salary_from IS NOT NULL OR v.salary_to IS NOT NULL\n",
        "-- WHERE NOT (v.salary_from IS NULL AND v.salary_to IS NULL)\n",
        ";"
      ]
    },
    {
      "cell_type": "markdown",
      "metadata": {
        "id": "yKXfDhj-Yxv1"
      },
      "source": [
        "Вывод\n",
        "\n",
        "Отметим, что только около 50% данных по вакансиям можно использовать для анализа предлагаемой заработной платы работодателем. Это довольно низкий, по критериям оценки пригодности для анализа, показатель для признака. Возможно требуется проведение дополнительной работы по получению более полных данных в разрезе других критериев(регион, сфера деятельности и т.д.)"
      ]
    },
    {
      "cell_type": "markdown",
      "metadata": {
        "id": "JK_N16vnYxv2"
      },
      "source": [
        "#### Задание 4.3\n",
        "  Найдите средние значения для нижней и верхней границы зарплатной вилки. Округлите значения до целого числа."
      ]
    },
    {
      "cell_type": "code",
      "execution_count": null,
      "metadata": {
        "colab": {
          "base_uri": "https://localhost:8080/",
          "height": 80
        },
        "id": "uB_ZqY3ZYxv3",
        "outputId": "a9d89263-914c-4299-ec8d-b2e0df3dc8fd"
      },
      "outputs": [
        {
          "name": "stdout",
          "output_type": "stream",
          "text": [
            "1 rows affected.\n"
          ]
        },
        {
          "data": {
            "text/html": [
              "<table>\n",
              "    <tr>\n",
              "        <th>salary_avg_from</th>\n",
              "        <th>salary_avg_to</th>\n",
              "    </tr>\n",
              "    <tr>\n",
              "        <td>71065</td>\n",
              "        <td>110537</td>\n",
              "    </tr>\n",
              "</table>"
            ],
            "text/plain": [
              "[(Decimal('71065'), Decimal('110537'))]"
            ]
          },
          "execution_count": 47,
          "metadata": {},
          "output_type": "execute_result"
        }
      ],
      "source": [
        "%%sql\n",
        "\n",
        "SELECT \n",
        "  ROUND(AVG(v.salary_from),0) salary_avg_from, \n",
        "  ROUND(AVG(v.salary_to),0) salary_avg_to\n",
        "FROM vacancies v;"
      ]
    },
    {
      "cell_type": "markdown",
      "metadata": {
        "id": "ztAh7er9Yxv3"
      },
      "source": [
        "Вывод\n",
        "\n",
        "Можно заметить, показатели зарплатной вилки в среднем довольно большие для региональных зарплат. Скорее всего, из-за не полных данных от работодателей эти показатели завышены. "
      ]
    },
    {
      "cell_type": "markdown",
      "metadata": {
        "id": "5xu9Q6LDYxv4"
      },
      "source": [
        "#### Задание 4.4\n",
        "  Напишите запрос, который выведет количество вакансий для каждого сочетания типа рабочего графика (schedule) и типа трудоустройства (employment), используемого в вакансиях. Какая пара находится на втором месте по популярности?\n"
      ]
    },
    {
      "cell_type": "code",
      "execution_count": null,
      "metadata": {
        "colab": {
          "base_uri": "https://localhost:8080/",
          "height": 165
        },
        "id": "QHnI3QIKYxv4",
        "outputId": "f7ff2f02-b9cf-47eb-987c-4c1ba185d5b8"
      },
      "outputs": [
        {
          "name": "stdout",
          "output_type": "stream",
          "text": [
            "5 rows affected.\n"
          ]
        },
        {
          "data": {
            "text/html": [
              "<table>\n",
              "    <tr>\n",
              "        <th>schedule</th>\n",
              "        <th>employment</th>\n",
              "        <th>count</th>\n",
              "    </tr>\n",
              "    <tr>\n",
              "        <td>Полный день</td>\n",
              "        <td>Полная занятость</td>\n",
              "        <td>35367</td>\n",
              "    </tr>\n",
              "    <tr>\n",
              "        <td>Удаленная работа</td>\n",
              "        <td>Полная занятость</td>\n",
              "        <td>7802</td>\n",
              "    </tr>\n",
              "    <tr>\n",
              "        <td>Гибкий график</td>\n",
              "        <td>Полная занятость</td>\n",
              "        <td>1593</td>\n",
              "    </tr>\n",
              "    <tr>\n",
              "        <td>Удаленная работа</td>\n",
              "        <td>Частичная занятость</td>\n",
              "        <td>1312</td>\n",
              "    </tr>\n",
              "    <tr>\n",
              "        <td>Сменный график</td>\n",
              "        <td>Полная занятость</td>\n",
              "        <td>940</td>\n",
              "    </tr>\n",
              "</table>"
            ],
            "text/plain": [
              "[('Полный день', 'Полная занятость', 35367),\n",
              " ('Удаленная работа', 'Полная занятость', 7802),\n",
              " ('Гибкий график', 'Полная занятость', 1593),\n",
              " ('Удаленная работа', 'Частичная занятость', 1312),\n",
              " ('Сменный график', 'Полная занятость', 940)]"
            ]
          },
          "execution_count": 48,
          "metadata": {},
          "output_type": "execute_result"
        }
      ],
      "source": [
        "%%sql\n",
        "\n",
        "SELECT \n",
        "  v.schedule, \n",
        "  v.employment,\n",
        "  COUNT(*)\n",
        "FROM vacancies v\n",
        "GROUP BY v.schedule,v.employment\n",
        "ORDER BY COUNT DESC\n",
        "LIMIT 5;"
      ]
    },
    {
      "cell_type": "markdown",
      "metadata": {
        "id": "loHE7dcGYxv5"
      },
      "source": [
        "Вывод\n",
        "\n",
        "Полная занятость при полном рабочем дне абсолютный лидер по типу трудоустройства и рабочего графика среди остальных типов вакансий. А удаленная работа при сохранении полной занятости, стала фактически нормой во время и после пандемии для многих \"офисных\" сфер деятельности и является лишь разновидностью первой. Остальные типы сочетаний значительно отстают."
      ]
    },
    {
      "cell_type": "markdown",
      "metadata": {
        "id": "UKK4D88wYxv5"
      },
      "source": [
        "#### Задание 4.5  \n",
        "Напишите запрос, выводящий значения поля Требуемый опыт работы (experience)\n",
        "в порядке возрастания количества вакансий, в которых указан данный вариант опыта."
      ]
    },
    {
      "cell_type": "code",
      "execution_count": null,
      "metadata": {
        "colab": {
          "base_uri": "https://localhost:8080/",
          "height": 144
        },
        "id": "mcrR2E3UYxv6",
        "outputId": "d8ccf535-6a38-491d-e28d-fe7d2edf19f8"
      },
      "outputs": [
        {
          "name": "stdout",
          "output_type": "stream",
          "text": [
            "4 rows affected.\n"
          ]
        },
        {
          "data": {
            "text/html": [
              "<table>\n",
              "    <tr>\n",
              "        <th>experience</th>\n",
              "        <th>count</th>\n",
              "    </tr>\n",
              "    <tr>\n",
              "        <td>Более 6 лет</td>\n",
              "        <td>1337</td>\n",
              "    </tr>\n",
              "    <tr>\n",
              "        <td>Нет опыта</td>\n",
              "        <td>7197</td>\n",
              "    </tr>\n",
              "    <tr>\n",
              "        <td>От 3 до 6 лет</td>\n",
              "        <td>14511</td>\n",
              "    </tr>\n",
              "    <tr>\n",
              "        <td>От 1 года до 3 лет</td>\n",
              "        <td>26152</td>\n",
              "    </tr>\n",
              "</table>"
            ],
            "text/plain": [
              "[('Более 6 лет', 1337),\n",
              " ('Нет опыта', 7197),\n",
              " ('От 3 до 6 лет', 14511),\n",
              " ('От 1 года до 3 лет', 26152)]"
            ]
          },
          "execution_count": 49,
          "metadata": {},
          "output_type": "execute_result"
        }
      ],
      "source": [
        "%%sql\n",
        "\n",
        "SELECT \n",
        "  v.experience,\n",
        "  COUNT(*)\n",
        "FROM vacancies v\n",
        "GROUP BY v.experience\n",
        "ORDER BY COUNT;"
      ]
    },
    {
      "cell_type": "markdown",
      "metadata": {
        "id": "KasJ1vJNYxv6"
      },
      "source": [
        "Вывод\n",
        "\n",
        "По данным показателям видно, что основное требование по опыту от работодателя это что бы он был. Вакансий, где опыт не требуется, значительно меньше. Вакансии где указан опыт более 6 лет скорее всего относятся к лидерским позициям в сферах деятельности и составляют меньшинство.\n",
        "Для более детальной оценки требований по опыту требуются дополнительные исследования в разрезе других критериальных признаков."
      ]
    },
    {
      "cell_type": "markdown",
      "metadata": {
        "id": "Pm6D2zwsYxv6"
      },
      "source": [
        "##### Задание 5.1\n",
        "Напишите запрос, который позволит узнать, какие работодатели \n",
        "находятся на первом и пятом месте по количеству вакансий.\n"
      ]
    },
    {
      "cell_type": "code",
      "execution_count": null,
      "metadata": {
        "colab": {
          "base_uri": "https://localhost:8080/",
          "height": 165
        },
        "id": "FllPKxINYxv7",
        "outputId": "ef124e27-0f10-43aa-964c-ec4dc28e8807"
      },
      "outputs": [
        {
          "name": "stdout",
          "output_type": "stream",
          "text": [
            "5 rows affected.\n"
          ]
        },
        {
          "data": {
            "text/html": [
              "<table>\n",
              "    <tr>\n",
              "        <th>count</th>\n",
              "        <th>name</th>\n",
              "    </tr>\n",
              "    <tr>\n",
              "        <td>1933</td>\n",
              "        <td>Яндекс</td>\n",
              "    </tr>\n",
              "    <tr>\n",
              "        <td>491</td>\n",
              "        <td>Ростелеком</td>\n",
              "    </tr>\n",
              "    <tr>\n",
              "        <td>444</td>\n",
              "        <td>Тинькофф</td>\n",
              "    </tr>\n",
              "    <tr>\n",
              "        <td>428</td>\n",
              "        <td>СБЕР</td>\n",
              "    </tr>\n",
              "    <tr>\n",
              "        <td>331</td>\n",
              "        <td>Газпром нефть</td>\n",
              "    </tr>\n",
              "</table>"
            ],
            "text/plain": [
              "[(1933, 'Яндекс'),\n",
              " (491, 'Ростелеком'),\n",
              " (444, 'Тинькофф'),\n",
              " (428, 'СБЕР'),\n",
              " (331, 'Газпром нефть')]"
            ]
          },
          "execution_count": 50,
          "metadata": {},
          "output_type": "execute_result"
        }
      ],
      "source": [
        "%%sql\n",
        "\n",
        "SELECT \n",
        "  COUNT(v.id),\n",
        "  e.name\n",
        "FROM vacancies v\n",
        "LEFT JOIN employers e ON v.employer_id = e.id\n",
        "GROUP BY e.name\n",
        "ORDER BY COUNT DESC\n",
        "LIMIT 5;"
      ]
    },
    {
      "cell_type": "markdown",
      "metadata": {
        "id": "LX47kOybYxv7"
      },
      "source": [
        "Вывод\n",
        "\n",
        "По абсолютно лидерским позициям Яндекса по количеству вакансиям можно судить, что компания серьезно развивается и нуждается в новых сотрудниках. У остального из \"Топ5\" российского бизнеса количество вакансий значительно ниже и находится примерно на одном уровне."
      ]
    },
    {
      "cell_type": "markdown",
      "metadata": {
        "id": "6bmg0c2fYxv8"
      },
      "source": [
        "####  Задание 5.2 (Вариант второй, классический) \n",
        "Напишите запрос, который для каждого региона выведет количество работодателей и вакансий в нём. Среди регионов, в которых нет вакансий, найдите тот, в котором наибольшее количество работодателей. Впишите его название в поле ниже в том виде, который вернул запрос."
      ]
    },
    {
      "cell_type": "code",
      "execution_count": null,
      "metadata": {
        "colab": {
          "base_uri": "https://localhost:8080/",
          "height": 165
        },
        "id": "Q6OPWRRsYxv8",
        "outputId": "5643bcd5-9d16-4127-9ef8-ba75bc9bc906"
      },
      "outputs": [
        {
          "name": "stdout",
          "output_type": "stream",
          "text": [
            "5 rows affected.\n"
          ]
        },
        {
          "data": {
            "text/html": [
              "<table>\n",
              "    <tr>\n",
              "        <th>name</th>\n",
              "        <th>v_cnt</th>\n",
              "        <th>e_cnt</th>\n",
              "    </tr>\n",
              "    <tr>\n",
              "        <td>Россия</td>\n",
              "        <td>None</td>\n",
              "        <td>410</td>\n",
              "    </tr>\n",
              "    <tr>\n",
              "        <td>Казахстан</td>\n",
              "        <td>None</td>\n",
              "        <td>207</td>\n",
              "    </tr>\n",
              "    <tr>\n",
              "        <td>Московская область</td>\n",
              "        <td>None</td>\n",
              "        <td>75</td>\n",
              "    </tr>\n",
              "    <tr>\n",
              "        <td>Краснодарский край</td>\n",
              "        <td>None</td>\n",
              "        <td>19</td>\n",
              "    </tr>\n",
              "    <tr>\n",
              "        <td>Беларусь</td>\n",
              "        <td>None</td>\n",
              "        <td>18</td>\n",
              "    </tr>\n",
              "</table>"
            ],
            "text/plain": [
              "[('Россия', None, 410),\n",
              " ('Казахстан', None, 207),\n",
              " ('Московская область', None, 75),\n",
              " ('Краснодарский край', None, 19),\n",
              " ('Беларусь', None, 18)]"
            ]
          },
          "execution_count": 51,
          "metadata": {},
          "output_type": "execute_result"
        }
      ],
      "source": [
        "%%sql\n",
        "\n",
        "SELECT \n",
        "  a.name,\n",
        "  v.v_cnt,\n",
        "  e.e_cnt\n",
        "FROM areas a\n",
        "LEFT JOIN (\n",
        "    SELECT \n",
        "      e.area,\n",
        "      COUNT(*) AS e_cnt\n",
        "    FROM employers e\n",
        "    GROUP BY e.area\n",
        "  ) AS e ON a.id = e.area\n",
        "LEFT JOIN (\n",
        "    SELECT \n",
        "      v.area_id,\n",
        "      COUNT(*) AS v_cnt\n",
        "    FROM vacancies v\n",
        "    GROUP BY v.area_id\n",
        "  ) AS v ON a.id = v.area_id\n",
        "-- WHERE v.v_cnt IS NULL\n",
        "ORDER BY v.v_cnt DESC NULLS FIRST, e.e_cnt DESC NULLS LAST\n",
        "LIMIT 5;"
      ]
    },
    {
      "cell_type": "markdown",
      "metadata": {
        "id": "CRBtKswsYxv9"
      },
      "source": [
        "#### Задание 5.2 (Вариант первый, исторический) \n",
        "  Напишите запрос, который для каждого региона выведет количество работодателей и вакансий в нём.\n",
        "Среди регионов, в которых нет вакансий, найдите тот, в котором наибольшее количество работодателей.\n",
        "Впишите его название в поле ниже в том виде, который вернул запрос.\n"
      ]
    },
    {
      "cell_type": "code",
      "execution_count": null,
      "metadata": {
        "colab": {
          "base_uri": "https://localhost:8080/",
          "height": 165
        },
        "id": "_d8DHCYCYxv9",
        "outputId": "71e87874-1fd7-4c15-9c7b-2fedaba023b2"
      },
      "outputs": [
        {
          "name": "stdout",
          "output_type": "stream",
          "text": [
            "5 rows affected.\n"
          ]
        },
        {
          "data": {
            "text/html": [
              "<table>\n",
              "    <tr>\n",
              "        <th>name</th>\n",
              "        <th>vacancies_count</th>\n",
              "        <th>employers_count</th>\n",
              "    </tr>\n",
              "    <tr>\n",
              "        <td>Россия</td>\n",
              "        <td>0</td>\n",
              "        <td>410</td>\n",
              "    </tr>\n",
              "    <tr>\n",
              "        <td>Казахстан</td>\n",
              "        <td>0</td>\n",
              "        <td>207</td>\n",
              "    </tr>\n",
              "    <tr>\n",
              "        <td>Московская область</td>\n",
              "        <td>0</td>\n",
              "        <td>75</td>\n",
              "    </tr>\n",
              "    <tr>\n",
              "        <td>Краснодарский край</td>\n",
              "        <td>0</td>\n",
              "        <td>19</td>\n",
              "    </tr>\n",
              "    <tr>\n",
              "        <td>Беларусь</td>\n",
              "        <td>0</td>\n",
              "        <td>18</td>\n",
              "    </tr>\n",
              "</table>"
            ],
            "text/plain": [
              "[('Россия', 0, 410),\n",
              " ('Казахстан', 0, 207),\n",
              " ('Московская область', 0, 75),\n",
              " ('Краснодарский край', 0, 19),\n",
              " ('Беларусь', 0, 18)]"
            ]
          },
          "execution_count": 52,
          "metadata": {},
          "output_type": "execute_result"
        }
      ],
      "source": [
        "%%sql\n",
        "\n",
        "WITH area_empl_cnt AS \n",
        "(\n",
        "SELECT \n",
        "  e.area,\n",
        "  COUNT(*) employers_count\n",
        "FROM employers e\n",
        "GROUP BY e.area\n",
        ")\n",
        "\n",
        "SELECT\n",
        "  a.name,\n",
        "  COUNT(v.area_id) vacancies_count,\n",
        "  e.employers_count\n",
        "FROM areas a\n",
        "LEFT JOIN vacancies v ON a.id = v.area_id\n",
        "LEFT JOIN area_empl_cnt e ON e.area = a.id\n",
        "GROUP BY a.id, a.name, e.employers_count\n",
        "ORDER BY vacancies_count, e.employers_count DESC NULLS LAST\n",
        "LIMIT 5;"
      ]
    },
    {
      "cell_type": "markdown",
      "metadata": {
        "id": "1FyNU649Yxv-"
      },
      "source": [
        "Вывод\n",
        "\n",
        "Из \"регионов-аггрегаторов\" закономерно на первом и втором месте Россия и Казахстан, как страны с преобладающим количеством развивающихся направлений экономической и промышленной деятельности. Так же закономерно выделяется по количеству работодателей Московская область, как столичная. Остальные позиции значительно отстают."
      ]
    },
    {
      "cell_type": "markdown",
      "metadata": {
        "id": "P_V37my8Yxv-"
      },
      "source": [
        "#### Задание 5.3\n",
        "  Для каждого работодателя посчитайте количество регионов, в которых он публикует свои вакансии\n",
        "Выберите максимальное значение из получившегося списка."
      ]
    },
    {
      "cell_type": "code",
      "execution_count": null,
      "metadata": {
        "colab": {
          "base_uri": "https://localhost:8080/",
          "height": 165
        },
        "id": "BUkjI1A0Yxv_",
        "outputId": "9ebfdd23-1e90-4c6c-ea40-7be7b56a5984"
      },
      "outputs": [
        {
          "name": "stdout",
          "output_type": "stream",
          "text": [
            "5 rows affected.\n"
          ]
        },
        {
          "data": {
            "text/html": [
              "<table>\n",
              "    <tr>\n",
              "        <th>name</th>\n",
              "        <th>count</th>\n",
              "    </tr>\n",
              "    <tr>\n",
              "        <td>Яндекс</td>\n",
              "        <td>181</td>\n",
              "    </tr>\n",
              "    <tr>\n",
              "        <td>Ростелеком</td>\n",
              "        <td>152</td>\n",
              "    </tr>\n",
              "    <tr>\n",
              "        <td>Спецремонт</td>\n",
              "        <td>116</td>\n",
              "    </tr>\n",
              "    <tr>\n",
              "        <td>Поляков Денис Иванович</td>\n",
              "        <td>88</td>\n",
              "    </tr>\n",
              "    <tr>\n",
              "        <td>ООО ЕФИН </td>\n",
              "        <td>71</td>\n",
              "    </tr>\n",
              "</table>"
            ],
            "text/plain": [
              "[('Яндекс', 181),\n",
              " ('Ростелеком', 152),\n",
              " ('Спецремонт', 116),\n",
              " ('Поляков Денис Иванович', 88),\n",
              " ('ООО ЕФИН ', 71)]"
            ]
          },
          "execution_count": 53,
          "metadata": {},
          "output_type": "execute_result"
        }
      ],
      "source": [
        "%%sql\n",
        "\n",
        "SELECT\n",
        "  e.name,\n",
        "  COUNT(DISTINCT v.area_id)\n",
        "FROM employers e \n",
        "LEFT JOIN vacancies v ON e.id = v.employer_id\n",
        "GROUP BY e.id, e.name\n",
        "ORDER BY COUNT DESC\n",
        "LIMIT 5;"
      ]
    },
    {
      "cell_type": "markdown",
      "metadata": {
        "id": "YMt59qWBYxv_"
      },
      "source": [
        "Вывод\n",
        "\n",
        "Яндекс являясь наибольшим обладателем вакансий и здесь закономерно лидирует. Можно отметить, что вторая позиция Ростелекома связана со спецификой деятельности по предостовлению телекомуникационных услуг и востребованностью специалистов как для администрирования сетевого оборудования, так и для работы в \"поле\" по всей стране."
      ]
    },
    {
      "cell_type": "markdown",
      "metadata": {
        "id": "lPdv7em0YxwA"
      },
      "source": [
        "#### Задание 5.4  \n",
        "  Напишите запрос для подсчёта количества работодателей, у которых не указана сфера деятельности.\n",
        "Введите количество, которое вернул запрос\n"
      ]
    },
    {
      "cell_type": "code",
      "execution_count": null,
      "metadata": {
        "colab": {
          "base_uri": "https://localhost:8080/",
          "height": 80
        },
        "id": "T74MhoLzYxwA",
        "outputId": "ac40db7c-0a36-449d-89e9-5ba82bb1a855"
      },
      "outputs": [
        {
          "name": "stdout",
          "output_type": "stream",
          "text": [
            "1 rows affected.\n"
          ]
        },
        {
          "data": {
            "text/html": [
              "<table>\n",
              "    <tr>\n",
              "        <th>count</th>\n",
              "    </tr>\n",
              "    <tr>\n",
              "        <td>8419</td>\n",
              "    </tr>\n",
              "</table>"
            ],
            "text/plain": [
              "[(8419,)]"
            ]
          },
          "execution_count": 54,
          "metadata": {},
          "output_type": "execute_result"
        }
      ],
      "source": [
        "%%sql\n",
        "\n",
        "SELECT  \n",
        "  COUNT(*)\n",
        "FROM employers e\n",
        "LEFT JOIN employers_industries ei ON e.id = ei.employer_id\n",
        "WHERE ei.employer_id IS NULL;"
      ]
    },
    {
      "cell_type": "markdown",
      "metadata": {
        "id": "7digo8aXYxwB"
      },
      "source": [
        "Вывод\n",
        "\n",
        "Показатель по отсутствующим данным довольно значительный, но возможно при конструировании признаков его удастся сократить за счет наименований вакансий. А причины, по которой работодатель не указал сферу деятельности могут быть весьма разнообразными."
      ]
    },
    {
      "cell_type": "markdown",
      "metadata": {
        "id": "ibN6sVS5YxwB"
      },
      "source": [
        "#### Задание 5.5\n",
        "  Напишите запрос, чтобы узнать название компании, находящейся на третьем месте в алфавитном списке (по названию) компаний, у которых указано четыре сферы деятельности.\n",
        "Введите в поле ниже название этой компании так же, как оно указано в результате запроса\n"
      ]
    },
    {
      "cell_type": "code",
      "execution_count": null,
      "metadata": {
        "colab": {
          "base_uri": "https://localhost:8080/",
          "height": 165
        },
        "id": "9MULSssIYxwB",
        "outputId": "19975110-638e-4ff2-e385-d08a48ca7be3"
      },
      "outputs": [
        {
          "name": "stdout",
          "output_type": "stream",
          "text": [
            "5 rows affected.\n"
          ]
        },
        {
          "data": {
            "text/html": [
              "<table>\n",
              "    <tr>\n",
              "        <th>name</th>\n",
              "        <th>industry_cnt</th>\n",
              "    </tr>\n",
              "    <tr>\n",
              "        <td>101 Интернет</td>\n",
              "        <td>4</td>\n",
              "    </tr>\n",
              "    <tr>\n",
              "        <td>21vek.by</td>\n",
              "        <td>4</td>\n",
              "    </tr>\n",
              "    <tr>\n",
              "        <td>2ГИС</td>\n",
              "        <td>4</td>\n",
              "    </tr>\n",
              "    <tr>\n",
              "        <td>2К</td>\n",
              "        <td>4</td>\n",
              "    </tr>\n",
              "    <tr>\n",
              "        <td>4 пикселя +</td>\n",
              "        <td>4</td>\n",
              "    </tr>\n",
              "</table>"
            ],
            "text/plain": [
              "[('101 Интернет', 4),\n",
              " ('21vek.by', 4),\n",
              " ('2ГИС', 4),\n",
              " ('2К', 4),\n",
              " ('4 пикселя +', 4)]"
            ]
          },
          "execution_count": 55,
          "metadata": {},
          "output_type": "execute_result"
        }
      ],
      "source": [
        "%%sql\n",
        "\n",
        "SELECT  \n",
        "  e.name,\n",
        "  COUNT(ei) industry_cnt\n",
        "FROM employers e\n",
        "LEFT JOIN employers_industries ei ON e.id = ei.employer_id\n",
        "GROUP BY e.id\n",
        "HAVING COUNT(ei) = 4\n",
        "ORDER BY e.name ASC\n",
        "LIMIT 5;\n"
      ]
    },
    {
      "cell_type": "markdown",
      "metadata": {
        "id": "WYqAsd0iYxwB"
      },
      "source": [
        "Вывод\n",
        "\n",
        "Нет какой либо тенденции или закономерности для вывода, кроме повсеместной узнаваемости бренда \"2ГИС\"."
      ]
    },
    {
      "cell_type": "markdown",
      "metadata": {
        "id": "5B_tN3yXYxwC"
      },
      "source": [
        "#### Задание 5.6  \n",
        "С помощью запроса выясните, у какого количества работодателей в качестве сферы деятельности указана «Разработка программного обеспечения».\n"
      ]
    },
    {
      "cell_type": "code",
      "execution_count": null,
      "metadata": {
        "colab": {
          "base_uri": "https://localhost:8080/",
          "height": 80
        },
        "id": "gyRp495aYxwC",
        "outputId": "6ac1ac9a-dd93-46f5-87fb-45f9ac2c8869"
      },
      "outputs": [
        {
          "name": "stdout",
          "output_type": "stream",
          "text": [
            "1 rows affected.\n"
          ]
        },
        {
          "data": {
            "text/html": [
              "<table>\n",
              "    <tr>\n",
              "        <th>count</th>\n",
              "    </tr>\n",
              "    <tr>\n",
              "        <td>3553</td>\n",
              "    </tr>\n",
              "</table>"
            ],
            "text/plain": [
              "[(3553,)]"
            ]
          },
          "execution_count": 56,
          "metadata": {},
          "output_type": "execute_result"
        }
      ],
      "source": [
        "%%sql\n",
        "\n",
        "SELECT  \n",
        "  count(*)\n",
        "FROM employers e\n",
        "LEFT JOIN employers_industries ei ON e.id = ei.employer_id\n",
        "LEFT JOIN industries i ON ei.industry_id = i.id\n",
        "WHERE i.name LIKE 'Разработка программного обеспечения';\n"
      ]
    },
    {
      "cell_type": "markdown",
      "metadata": {
        "id": "RvEie5VHYxwC"
      },
      "source": [
        "Вывод\n",
        "\n",
        "Довольно большой относительный показатель для территории с очень разнообразной экономической деятельностью. Возможно это связанно с дефицитом специалистов данного направления. Требуются дополнительные иследования."
      ]
    },
    {
      "cell_type": "markdown",
      "metadata": {},
      "source": [
        "#### К Заданию 5.7. А.Загрузка списка городов из архива"
      ]
    },
    {
      "cell_type": "code",
      "execution_count": null,
      "metadata": {
        "id": "Z19ieE5AYxwD"
      },
      "outputs": [],
      "source": [
        "# Если нет доступа к wikipedia.org берем архивные данные\n",
        "city_mills = [ \\\n",
        "'Москва',\n",
        "'Санкт-Петербург',\n",
        "'Новосибирск',\n",
        "'Екатеринбург',\n",
        "'Казань',\n",
        "'Нижний Новгород',\n",
        "'Челябинск',\n",
        "'Красноярск',\n",
        "'Самара',\n",
        "'Уфа',\n",
        "'Ростов-на-Дону',\n",
        "'Омск',\n",
        "'Краснодар',\n",
        "'Воронеж',\n",
        "'Пермь',\n",
        "'Волгоград'\n",
        "]"
      ]
    },
    {
      "cell_type": "markdown",
      "metadata": {},
      "source": [
        "#### К Заданию 5.7. В.Загрузка и парсинг данных с сайта wikipedia.org"
      ]
    },
    {
      "cell_type": "code",
      "execution_count": 4,
      "metadata": {
        "id": "nzTF9rj6YxwD"
      },
      "outputs": [],
      "source": [
        "import urllib.parse as req\n",
        "\n",
        "### Забираем города-миллионики с википедии\n",
        "path_common = req.urlparse('https://ru.wikipedia.org/wiki/Города-миллионеры_России#Список_городов-миллионеров')\n",
        "url = path_common.scheme + '://' + req.quote(path_common.netloc) +  req.quote(path_common.path) + '#'+ req.quote(path_common.fragment)\n",
        "### и кладем в Serias\n",
        "city_mills_ss = pd.read_html(url)[1]['Город']"
      ]
    },
    {
      "cell_type": "code",
      "execution_count": 5,
      "metadata": {
        "colab": {
          "base_uri": "https://localhost:8080/"
        },
        "id": "CzdDSgeWYxwE",
        "outputId": "a8b42690-4d6c-4dfd-a132-fdb073162085"
      },
      "outputs": [
        {
          "name": "stdout",
          "output_type": "stream",
          "text": [
            "Яндекс :: Москва, Санкт-Петербург, Новосибирск, Екатеринбург, Казань, Нижний Новгород, Челябинск, Красноярск, Самара, Уфа, Ростов-на-Дону, Омск, Краснодар, Воронеж, Пермь, Волгоград\n"
          ]
        }
      ],
      "source": [
        "## \n",
        "def remove_bracket(raw:str)->str:\n",
        "    \"\"\"Удаляет комментирующие ссылки в квадратных скобках\"\"\"\n",
        "    bracket_counter, result = 0, ''\n",
        "    for ch in raw:\n",
        "        if ch == '[':\n",
        "            bracket_counter += 1\n",
        "        if ch == ']':\n",
        "            bracket_counter -= 1\n",
        "        elif not bracket_counter:\n",
        "            result += ch\n",
        "    return result\n",
        "\n",
        "city_mills = city_mills_ss.apply(remove_bracket).to_list()\n",
        "\n",
        "### Параметры для запроса\n",
        "company_for_select = 'Яндекс'\n",
        "city_params = tuple(city_mills)\n",
        "print(company_for_select, '::', ', '.join(city_mills))"
      ]
    },
    {
      "cell_type": "markdown",
      "metadata": {
        "id": "2TqjGbdcYxwE"
      },
      "source": [
        "#### *Задание 5.7\n",
        "  Для компании «Яндекс» выведите список регионов-миллионников , в которых представлены вакансии компании, вместе с количеством вакансий в этих регионах. Также добавьте строку Total с общим количеством вакансий компании, собранных в этой таблице.\n"
      ]
    },
    {
      "cell_type": "code",
      "execution_count": null,
      "metadata": {
        "colab": {
          "base_uri": "https://localhost:8080/",
          "height": 421
        },
        "id": "2MS3iZLnYxwF",
        "outputId": "d99e2637-7aaa-4b83-c48d-211fd0030592"
      },
      "outputs": [
        {
          "name": "stdout",
          "output_type": "stream",
          "text": [
            "17 rows affected.\n"
          ]
        },
        {
          "data": {
            "text/html": [
              "<table>\n",
              "    <tr>\n",
              "        <th>area_name</th>\n",
              "        <th>vacancies_count</th>\n",
              "    </tr>\n",
              "    <tr>\n",
              "        <td>*Всего вакансий</td>\n",
              "        <td>485</td>\n",
              "    </tr>\n",
              "    <tr>\n",
              "        <td>Москва</td>\n",
              "        <td>54</td>\n",
              "    </tr>\n",
              "    <tr>\n",
              "        <td>Санкт-Петербург</td>\n",
              "        <td>42</td>\n",
              "    </tr>\n",
              "    <tr>\n",
              "        <td>Екатеринбург</td>\n",
              "        <td>39</td>\n",
              "    </tr>\n",
              "    <tr>\n",
              "        <td>Нижний Новгород</td>\n",
              "        <td>36</td>\n",
              "    </tr>\n",
              "    <tr>\n",
              "        <td>Новосибирск</td>\n",
              "        <td>35</td>\n",
              "    </tr>\n",
              "    <tr>\n",
              "        <td>Воронеж</td>\n",
              "        <td>32</td>\n",
              "    </tr>\n",
              "    <tr>\n",
              "        <td>Краснодар</td>\n",
              "        <td>30</td>\n",
              "    </tr>\n",
              "    <tr>\n",
              "        <td>Самара</td>\n",
              "        <td>26</td>\n",
              "    </tr>\n",
              "    <tr>\n",
              "        <td>Уфа</td>\n",
              "        <td>26</td>\n",
              "    </tr>\n",
              "    <tr>\n",
              "        <td>Казань</td>\n",
              "        <td>25</td>\n",
              "    </tr>\n",
              "    <tr>\n",
              "        <td>Пермь</td>\n",
              "        <td>25</td>\n",
              "    </tr>\n",
              "    <tr>\n",
              "        <td>Ростов-на-Дону</td>\n",
              "        <td>25</td>\n",
              "    </tr>\n",
              "    <tr>\n",
              "        <td>Волгоград</td>\n",
              "        <td>24</td>\n",
              "    </tr>\n",
              "    <tr>\n",
              "        <td>Красноярск</td>\n",
              "        <td>23</td>\n",
              "    </tr>\n",
              "    <tr>\n",
              "        <td>Челябинск</td>\n",
              "        <td>22</td>\n",
              "    </tr>\n",
              "    <tr>\n",
              "        <td>Омск</td>\n",
              "        <td>21</td>\n",
              "    </tr>\n",
              "</table>"
            ],
            "text/plain": [
              "[('*Всего вакансий', 485),\n",
              " ('Москва', 54),\n",
              " ('Санкт-Петербург', 42),\n",
              " ('Екатеринбург', 39),\n",
              " ('Нижний Новгород', 36),\n",
              " ('Новосибирск', 35),\n",
              " ('Воронеж', 32),\n",
              " ('Краснодар', 30),\n",
              " ('Самара', 26),\n",
              " ('Уфа', 26),\n",
              " ('Казань', 25),\n",
              " ('Пермь', 25),\n",
              " ('Ростов-на-Дону', 25),\n",
              " ('Волгоград', 24),\n",
              " ('Красноярск', 23),\n",
              " ('Челябинск', 22),\n",
              " ('Омск', 21)]"
            ]
          },
          "execution_count": 57,
          "metadata": {},
          "output_type": "execute_result"
        }
      ],
      "source": [
        "%%sql\n",
        "\n",
        "(\n",
        "  SELECT \n",
        "    -- 'Total' area_name,\n",
        "    '*Всего вакансий' area_name,\n",
        "    COUNT(*) vacancies_count\n",
        "  FROM vacancies v\n",
        "  LEFT JOIN employers e ON v.employer_id = e.id\n",
        "  JOIN areas a ON v.area_id = a.id\n",
        "  WHERE e.name LIKE :company_for_select\n",
        "  AND a.name IN :city_params\n",
        "  GROUP BY v.employer_id\n",
        ")\n",
        "UNION ALL\n",
        "(\n",
        "  SELECT \n",
        "    a.name area_name,\n",
        "    COUNT(*) vacancies_count\n",
        "  FROM vacancies v\n",
        "  LEFT JOIN employers e ON v.employer_id = e.id\n",
        "  JOIN areas a ON v.area_id = a.id\n",
        "  WHERE e.name LIKE :company_for_select\n",
        "  AND a.name IN :city_params\n",
        "  GROUP BY v.area_id, v.employer_id, a.name\n",
        ")\n",
        "ORDER BY vacancies_count DESC;\n"
      ]
    },
    {
      "cell_type": "markdown",
      "metadata": {
        "id": "3odXtcZ4YxwF"
      },
      "source": [
        "Вывод\n",
        "\n",
        "Каких либо аномалий по данной выборке не наблюдается. Столицы закономерно лидируют по количеству вакансий от IT компании."
      ]
    },
    {
      "cell_type": "markdown",
      "metadata": {
        "id": "UzIyGSVoYxwF"
      },
      "source": [
        "#### Задание 6.1\n",
        "  Сколько вакансий имеют отношение к данным ('data', 'данн')\n"
      ]
    },
    {
      "cell_type": "code",
      "execution_count": null,
      "metadata": {
        "colab": {
          "base_uri": "https://localhost:8080/",
          "height": 80
        },
        "id": "5vXv1aRmYxwG",
        "outputId": "d06c0013-c623-410b-f425-e892a220e384"
      },
      "outputs": [
        {
          "name": "stdout",
          "output_type": "stream",
          "text": [
            "1 rows affected.\n"
          ]
        },
        {
          "data": {
            "text/html": [
              "<table>\n",
              "    <tr>\n",
              "        <th>count</th>\n",
              "    </tr>\n",
              "    <tr>\n",
              "        <td>1771</td>\n",
              "    </tr>\n",
              "</table>"
            ],
            "text/plain": [
              "[(1771,)]"
            ]
          },
          "execution_count": 58,
          "metadata": {},
          "output_type": "execute_result"
        }
      ],
      "source": [
        "%%sql\n",
        "\n",
        "SELECT  \n",
        "  COUNT(*)\n",
        "FROM vacancies v \n",
        "WHERE v.name iLIKE '%data%' OR v.name iLIKE '%данн%';"
      ]
    },
    {
      "cell_type": "markdown",
      "metadata": {
        "id": "gyypUCfTYxwG"
      },
      "source": [
        "Вывод\n",
        "\n",
        "Можно отметить, что показатель довольно высокий. Связанно это скорее с тем, что под работой с данными подразумевается довольно широкий спектр деятельности. "
      ]
    },
    {
      "cell_type": "markdown",
      "metadata": {
        "id": "WbT8jbspYxwH"
      },
      "source": [
        "#### Задание 6.2  \n",
        "Сколько есть подходящих вакансий для начинающего дата-сайентиста?"
      ]
    },
    {
      "cell_type": "code",
      "execution_count": null,
      "metadata": {
        "colab": {
          "base_uri": "https://localhost:8080/",
          "height": 80
        },
        "id": "jYfF4m7cYxwH",
        "outputId": "3537b6c1-f84e-4129-d2ae-47f27fe74340"
      },
      "outputs": [
        {
          "name": "stdout",
          "output_type": "stream",
          "text": [
            "1 rows affected.\n"
          ]
        },
        {
          "data": {
            "text/html": [
              "<table>\n",
              "    <tr>\n",
              "        <th>count</th>\n",
              "    </tr>\n",
              "    <tr>\n",
              "        <td>51</td>\n",
              "    </tr>\n",
              "</table>"
            ],
            "text/plain": [
              "[(51,)]"
            ]
          },
          "execution_count": 59,
          "metadata": {},
          "output_type": "execute_result"
        }
      ],
      "source": [
        "%%sql\n",
        "\n",
        "WITH x AS (\n",
        "SELECT  \n",
        "  *\n",
        "FROM vacancies v \n",
        "WHERE \n",
        "    v.name iLIKE '%data scientist%' \n",
        " OR v.name iLIKE '%data science%'\n",
        " OR v.name iLIKE '%исследователь данных%' \n",
        " OR v.name iLIKE '%machine learning%' \n",
        " OR v.name iLIKE '%машинн%обучен%'\n",
        " OR v.name LIKE '%ML%' AND NOT v.name LIKE '%HTML%'\n",
        ")\n",
        "\n",
        "SELECT \n",
        "  COUNT(*)\n",
        "FROM x\n",
        "WHERE \n",
        "     x.name iLIKE '%junior%'\n",
        "  OR x.experience LIKE 'Нет опыта'\n",
        "  OR x.employment LIKE 'Стажировка';"
      ]
    },
    {
      "cell_type": "markdown",
      "metadata": {
        "id": "olwAbCgTYxwH"
      },
      "source": [
        "Вывод\n",
        "\n",
        "Удручающий. Практически отсутствие вакансий для молодых специалистов и специалистов уровня \"junior\" при росте востребованности в области обработки больших данных. Нежелание компаний и учреждений предлагать рабочие места и места стажировок начинающим специалистам данного направления и \"растить\" специалистов \"под себя\", будет сказываться на количественном, а в последствии и качественном развитии этой сферы."
      ]
    },
    {
      "cell_type": "markdown",
      "metadata": {
        "id": "m8GdbDnlYxwI"
      },
      "source": [
        "####  Задание 6.3  \n",
        "Сколько есть вакансий для DS, в которых в качестве ключевого навыка указан SQL или postgres?"
      ]
    },
    {
      "cell_type": "code",
      "execution_count": null,
      "metadata": {
        "colab": {
          "base_uri": "https://localhost:8080/",
          "height": 80
        },
        "id": "SiN4EcAsYxwI",
        "outputId": "3378f03b-f4a3-4455-ca2c-768680a189f6"
      },
      "outputs": [
        {
          "name": "stdout",
          "output_type": "stream",
          "text": [
            "1 rows affected.\n"
          ]
        },
        {
          "data": {
            "text/html": [
              "<table>\n",
              "    <tr>\n",
              "        <th>count</th>\n",
              "    </tr>\n",
              "    <tr>\n",
              "        <td>201</td>\n",
              "    </tr>\n",
              "</table>"
            ],
            "text/plain": [
              "[(201,)]"
            ]
          },
          "execution_count": 60,
          "metadata": {},
          "output_type": "execute_result"
        }
      ],
      "source": [
        "%%sql\n",
        "\n",
        "WITH x AS (\n",
        "SELECT  \n",
        "  *\n",
        "FROM vacancies v \n",
        "WHERE \n",
        "    v.name iLIKE '%data scientist%' \n",
        " OR v.name iLIKE '%data science%'\n",
        " OR v.name iLIKE '%исследователь данных%' \n",
        " OR v.name iLIKE '%machine learning%' \n",
        " OR v.name iLIKE '%машинн%обучен%'\n",
        " OR v.name LIKE '%ML%' AND NOT v.name LIKE '%HTML%'\n",
        ")\n",
        "\n",
        "SELECT \n",
        "  COUNT(*)\n",
        "FROM x\n",
        "WHERE \n",
        "    x.key_skills iLIKE '%sql%'\n",
        " OR x.key_skills iLIKE '%postgres%';"
      ]
    },
    {
      "cell_type": "markdown",
      "metadata": {
        "id": "7QVecL9JYxwI"
      },
      "source": [
        "Вывод\n",
        "\n",
        "Можно лишь отметить, что данное направление (DS) зачастую связанно с непосредственной работой с хранилищами данных в виде реляционных СУБД SQL."
      ]
    },
    {
      "cell_type": "markdown",
      "metadata": {
        "id": "fcA0SweIYxwJ"
      },
      "source": [
        "####  Задание 6.4  \n",
        "С помощью запроса, аналогичного предыдущему, проверьте, насколько популярен Python в требованиях работодателей к DS. Вычислите количество вакансий, в которых в качестве ключевого навыка указан Python."
      ]
    },
    {
      "cell_type": "code",
      "execution_count": null,
      "metadata": {
        "colab": {
          "base_uri": "https://localhost:8080/",
          "height": 80
        },
        "id": "ePL_J9W_YxwJ",
        "outputId": "1fd91ba2-1d95-4a66-a87f-1333dabfc3a3"
      },
      "outputs": [
        {
          "name": "stdout",
          "output_type": "stream",
          "text": [
            "1 rows affected.\n"
          ]
        },
        {
          "data": {
            "text/html": [
              "<table>\n",
              "    <tr>\n",
              "        <th>count</th>\n",
              "    </tr>\n",
              "    <tr>\n",
              "        <td>351</td>\n",
              "    </tr>\n",
              "</table>"
            ],
            "text/plain": [
              "[(351,)]"
            ]
          },
          "execution_count": 61,
          "metadata": {},
          "output_type": "execute_result"
        }
      ],
      "source": [
        "%%sql\n",
        "\n",
        "WITH x AS (\n",
        "SELECT  \n",
        "  *\n",
        "FROM vacancies v \n",
        "WHERE \n",
        "    v.name iLIKE '%data scientist%' \n",
        " OR v.name iLIKE '%data science%'\n",
        " OR v.name iLIKE '%исследователь данных%' \n",
        " OR v.name iLIKE '%machine learning%' \n",
        " OR v.name iLIKE '%машинн%обучен%'\n",
        " OR v.name LIKE '%ML%' AND NOT v.name LIKE '%HTML%'\n",
        ")\n",
        "\n",
        "SELECT \n",
        "  COUNT(*)\n",
        "FROM x\n",
        "WHERE \n",
        "    x.key_skills iLIKE '%python%'\n",
        "-- AND x.key_skills iLIKE '%postgres%'\n",
        ";"
      ]
    },
    {
      "cell_type": "markdown",
      "metadata": {
        "id": "Lk3cpyBiYxwK"
      },
      "source": [
        "Вывод\n",
        "\n",
        "На фоне огромого разнообразия различных инструментов и готовых решений для анализа данных, можно отметит, что популярность Python довольно высокая. Связано это со многими факторами, включая open-source лецензирование, низкий порог входа для освоения языка и инструментария.  Ну и несомненно популярность Python как языка с большим количеством разнообразных библиотек, средств разработки, готовых фрэймверков и их сфер приминения от агентов и терминалов мониторинга, инструментальных средст разработки и иследования до бэкэнд ядра крупного информационного или аналитического web портала. Весь процесс от иследования и разработки, до развертывания в сети и сопровождения из одной \"коробки\" и как следствие - снижение стоимости разработки и сопровождения."
      ]
    },
    {
      "cell_type": "markdown",
      "metadata": {
        "id": "PQd3LV6mYxwK"
      },
      "source": [
        "####  Задание 6.5 (Прототип запроса)  \n",
        "Сколько ключевых навыков в среднем указывают в вакансиях для DS? Ответ округлите до двух знаков после точки-разделителя."
      ]
    },
    {
      "cell_type": "code",
      "execution_count": null,
      "metadata": {
        "colab": {
          "base_uri": "https://localhost:8080/",
          "height": 165
        },
        "id": "55bKWm5NYxwK",
        "outputId": "b3d26f72-6be1-4ab8-f26e-858f212064b1"
      },
      "outputs": [
        {
          "name": "stdout",
          "output_type": "stream",
          "text": [
            "5 rows affected.\n"
          ]
        },
        {
          "data": {
            "text/html": [
              "<table>\n",
              "    <tr>\n",
              "        <th>key_skills</th>\n",
              "        <th>array_length</th>\n",
              "    </tr>\n",
              "    <tr>\n",
              "        <td>Python\tSQL\tРабота в команде\tOpenCV\tML</td>\n",
              "        <td>5</td>\n",
              "    </tr>\n",
              "    <tr>\n",
              "        <td>Oracle Pl/SQL\tБазы данных\tMachine Learning\tМашинное обучение\tGit\tData science\tPython\tРабота с базами данных\tМатематические модели</td>\n",
              "        <td>9</td>\n",
              "    </tr>\n",
              "    <tr>\n",
              "        <td>Python\tOpenCV\tTensorflow\tComputer Vision\tНейронные сети\tC++\tС#\tCaffe</td>\n",
              "        <td>8</td>\n",
              "    </tr>\n",
              "    <tr>\n",
              "        <td>Python\tFlask\tLinux\tAWS\tGit</td>\n",
              "        <td>5</td>\n",
              "    </tr>\n",
              "    <tr>\n",
              "        <td>Python\tSQL\tNLP\tScikit-learn\tMachine Learning</td>\n",
              "        <td>5</td>\n",
              "    </tr>\n",
              "</table>"
            ],
            "text/plain": [
              "[('Python\\tSQL\\tРабота в команде\\tOpenCV\\tML', 5),\n",
              " ('Oracle Pl/SQL\\tБазы данных\\tMachine Learning\\tМашинное обучение\\tGit\\tData science\\tPython\\tРабота с базами данных\\tМатематические модели', 9),\n",
              " ('Python\\tOpenCV\\tTensorflow\\tComputer Vision\\tНейронные сети\\tC++\\tС#\\tCaffe', 8),\n",
              " ('Python\\tFlask\\tLinux\\tAWS\\tGit', 5),\n",
              " ('Python\\tSQL\\tNLP\\tScikit-learn\\tMachine Learning', 5)]"
            ]
          },
          "execution_count": 62,
          "metadata": {},
          "output_type": "execute_result"
        }
      ],
      "source": [
        "%%sql\n",
        "\n",
        "WITH x AS (\n",
        "SELECT  \n",
        "  *\n",
        "FROM vacancies v \n",
        "WHERE \n",
        "    v.name iLIKE '%data scientist%' \n",
        " OR v.name iLIKE '%data science%'\n",
        " OR v.name iLIKE '%исследователь данных%' \n",
        " OR v.name iLIKE '%machine learning%' \n",
        " OR v.name iLIKE '%машинн%обучен%'\n",
        " OR v.name LIKE '%ML%' AND NOT v.name LIKE '%HTML%'\n",
        ")\n",
        "\n",
        "SELECT \n",
        "  x.key_skills,\n",
        "  ARRAY_LENGTH(string_to_array(x.key_skills, chr(9)), 1)\n",
        "FROM x\n",
        "LIMIT 5;"
      ]
    },
    {
      "cell_type": "markdown",
      "metadata": {
        "id": "fMen2OZZYxwK"
      },
      "source": [
        "#### Задание 6.5 (Решение)  \n",
        "Сколько ключевых навыков в среднем указывают в вакансиях для DS? Ответ округлите до двух знаков после точки-разделителя.\n"
      ]
    },
    {
      "cell_type": "code",
      "execution_count": null,
      "metadata": {
        "colab": {
          "base_uri": "https://localhost:8080/",
          "height": 80
        },
        "id": "0GXM21tkYxwL",
        "outputId": "eb9d0082-2ff3-43ba-8b49-0d716ef98b92"
      },
      "outputs": [
        {
          "name": "stdout",
          "output_type": "stream",
          "text": [
            "1 rows affected.\n"
          ]
        },
        {
          "data": {
            "text/html": [
              "<table>\n",
              "    <tr>\n",
              "        <th>ds_skills_num_avg</th>\n",
              "    </tr>\n",
              "    <tr>\n",
              "        <td>6.41</td>\n",
              "    </tr>\n",
              "</table>"
            ],
            "text/plain": [
              "[(Decimal('6.41'),)]"
            ]
          },
          "execution_count": 63,
          "metadata": {},
          "output_type": "execute_result"
        }
      ],
      "source": [
        "%%sql\n",
        "\n",
        "WITH x AS (\n",
        "SELECT  \n",
        "  *\n",
        "FROM vacancies v \n",
        "WHERE \n",
        "    v.name iLIKE '%data scientist%' \n",
        " OR v.name iLIKE '%data science%'\n",
        " OR v.name iLIKE '%исследователь данных%' \n",
        " OR v.name iLIKE '%machine learning%' \n",
        " OR v.name iLIKE '%машинн%обучен%'\n",
        " OR v.name LIKE '%ML%' AND NOT v.name LIKE '%HTML%'\n",
        ")\n",
        "\n",
        "SELECT \n",
        "  ROUND(AVG(ARRAY_LENGTH(string_to_array(x.key_skills, chr(9)), 1)),2) \"ds_skills_num_avg\"\n",
        "FROM x;"
      ]
    },
    {
      "cell_type": "markdown",
      "metadata": {
        "id": "EJil21_NYxwL"
      },
      "source": [
        "Вывод\n",
        "\n",
        "Требования работодателя к специалистам DS по наличию в среднем 6-7 навыков вполне закономерно учитывая с каким большим спектром программных и инструментальных средств приходится работать в этой области. По факту, с учетом наукоемкости и конвергентности этой специализации, этот показатель даже занижен."
      ]
    },
    {
      "cell_type": "markdown",
      "metadata": {
        "id": "l7PtqdE5YxwL"
      },
      "source": [
        "#### Задание 6.6 A Вариант 1  \n",
        "Напишите запрос, позволяющий вычислить, какую зарплату для DS в среднем указывают для каждого типа требуемого опыта (уникальное значение из поля experience).\n"
      ]
    },
    {
      "cell_type": "code",
      "execution_count": null,
      "metadata": {
        "colab": {
          "base_uri": "https://localhost:8080/",
          "height": 122
        },
        "id": "TwjRbtjJYxwL",
        "outputId": "f0c612ed-6360-4af5-c723-1fd3bc4cb699"
      },
      "outputs": [
        {
          "name": "stdout",
          "output_type": "stream",
          "text": [
            "3 rows affected.\n"
          ]
        },
        {
          "data": {
            "text/html": [
              "<table>\n",
              "    <tr>\n",
              "        <th>experience</th>\n",
              "        <th>salary_avg_from</th>\n",
              "        <th>salary_avg_to</th>\n",
              "        <th>salary_avg</th>\n",
              "    </tr>\n",
              "    <tr>\n",
              "        <td>От 3 до 6 лет</td>\n",
              "        <td>198949</td>\n",
              "        <td>290589</td>\n",
              "        <td>243115</td>\n",
              "    </tr>\n",
              "    <tr>\n",
              "        <td>От 1 года до 3 лет</td>\n",
              "        <td>121272</td>\n",
              "        <td>175673</td>\n",
              "        <td>139675</td>\n",
              "    </tr>\n",
              "    <tr>\n",
              "        <td>Нет опыта</td>\n",
              "        <td>61000</td>\n",
              "        <td>97000</td>\n",
              "        <td>74643</td>\n",
              "    </tr>\n",
              "</table>"
            ],
            "text/plain": [
              "[('От 3 до 6 лет', Decimal('198949'), Decimal('290589'), Decimal('243115')),\n",
              " ('От 1 года до 3 лет', Decimal('121272'), Decimal('175673'), Decimal('139675')),\n",
              " ('Нет опыта', Decimal('61000'), Decimal('97000'), Decimal('74643'))]"
            ]
          },
          "execution_count": 64,
          "metadata": {},
          "output_type": "execute_result"
        }
      ],
      "source": [
        "%%sql\n",
        "\n",
        "WITH x AS (\n",
        "  SELECT  \n",
        "    *\n",
        "  FROM vacancies v \n",
        "  WHERE \n",
        "      v.name iLIKE '%data scientist%' \n",
        "   OR v.name iLIKE '%data science%'\n",
        "   OR v.name iLIKE '%исследователь данных%' \n",
        "   OR v.name iLIKE '%machine learning%' \n",
        "   OR v.name iLIKE '%машинн%обучен%'\n",
        "   OR v.name LIKE '%ML%' AND NOT v.name LIKE '%HTML%'\n",
        ")\n",
        "\n",
        "SELECT \n",
        "  x.experience,\n",
        "  ROUND(AVG(x.salary_from)) salary_avg_from,\n",
        "  ROUND(AVG(x.salary_to)) salary_avg_to, \n",
        "  ROUND(AVG((COALESCE(x.salary_from, x.salary_to) + COALESCE(x.salary_to, x.salary_from))/2)) salary_avg\n",
        "FROM x\n",
        "WHERE x.salary_from IS NOT NULL OR x.salary_to IS NOT NULL\n",
        "GROUP BY x.experience;\n"
      ]
    },
    {
      "cell_type": "markdown",
      "metadata": {
        "id": "ievtBbMjYxwM"
      },
      "source": [
        "#### Задание 6.6 A Вариант 2 "
      ]
    },
    {
      "cell_type": "code",
      "execution_count": null,
      "metadata": {
        "colab": {
          "base_uri": "https://localhost:8080/",
          "height": 122
        },
        "id": "lpc-CrS5YxwM",
        "outputId": "3baf4d67-f954-46f1-e204-5301412f5c7b"
      },
      "outputs": [
        {
          "name": "stdout",
          "output_type": "stream",
          "text": [
            "3 rows affected.\n"
          ]
        },
        {
          "data": {
            "text/html": [
              "<table>\n",
              "    <tr>\n",
              "        <th>experience</th>\n",
              "        <th>salary_avg_from</th>\n",
              "        <th>salary_avg_to</th>\n",
              "        <th>salary_avg</th>\n",
              "    </tr>\n",
              "    <tr>\n",
              "        <td>Нет опыта</td>\n",
              "        <td>61000</td>\n",
              "        <td>97000</td>\n",
              "        <td>74643</td>\n",
              "    </tr>\n",
              "    <tr>\n",
              "        <td>От 1 года до 3 лет</td>\n",
              "        <td>121272</td>\n",
              "        <td>175673</td>\n",
              "        <td>139675</td>\n",
              "    </tr>\n",
              "    <tr>\n",
              "        <td>От 3 до 6 лет</td>\n",
              "        <td>198949</td>\n",
              "        <td>290589</td>\n",
              "        <td>243115</td>\n",
              "    </tr>\n",
              "</table>"
            ],
            "text/plain": [
              "[('Нет опыта', Decimal('61000'), Decimal('97000'), Decimal('74643')),\n",
              " ('От 1 года до 3 лет', Decimal('121272'), Decimal('175673'), Decimal('139675')),\n",
              " ('От 3 до 6 лет', Decimal('198949'), Decimal('290589'), Decimal('243115'))]"
            ]
          },
          "execution_count": 65,
          "metadata": {},
          "output_type": "execute_result"
        }
      ],
      "source": [
        "%%sql\n",
        "\n",
        "SELECT \n",
        "  x.experience,\n",
        "  ROUND(AVG(x.salary_from)) salary_avg_from,\n",
        "  ROUND(AVG(x.salary_to)) salary_avg_to, \n",
        "  ROUND(AVG((COALESCE(x.salary_from, x.salary_to) + COALESCE(x.salary_to, x.salary_from))/2)) salary_avg\n",
        "FROM (\n",
        "  SELECT  \n",
        "    *\n",
        "  FROM vacancies v \n",
        "  WHERE \n",
        "      v.name iLIKE '%data scientist%' \n",
        "  OR v.name iLIKE '%data science%'\n",
        "  OR v.name iLIKE '%исследователь данных%' \n",
        "  OR v.name iLIKE '%machine learning%' \n",
        "  OR v.name iLIKE '%машинн%обучен%'\n",
        "  OR v.name LIKE '%ML%' AND NOT v.name LIKE '%HTML%'\n",
        ") as x\n",
        "WHERE x.salary_from IS NOT NULL OR x.salary_to IS NOT NULL\n",
        "GROUP BY x.experience;\n"
      ]
    },
    {
      "cell_type": "markdown",
      "metadata": {
        "id": "kW-PoOq7YxwN"
      },
      "source": [
        "####  Задание 6.6 B Вариант 3\n",
        "Выясните, на какую зарплату в среднем может рассчитывать дата-сайентист с опытом работы от 3 до 6 лет. \n",
        "Результат округлите до целого числа."
      ]
    },
    {
      "cell_type": "code",
      "execution_count": null,
      "metadata": {
        "colab": {
          "base_uri": "https://localhost:8080/",
          "height": 80
        },
        "id": "YWks-JQUYxwO",
        "outputId": "95a5acf2-7f7c-4c02-a4b8-da23cad382f4"
      },
      "outputs": [
        {
          "name": "stdout",
          "output_type": "stream",
          "text": [
            "1 rows affected.\n"
          ]
        },
        {
          "data": {
            "text/html": [
              "<table>\n",
              "    <tr>\n",
              "        <th>experience</th>\n",
              "        <th>salary_avg_from</th>\n",
              "        <th>salary_avg_to</th>\n",
              "        <th>salary_avg</th>\n",
              "    </tr>\n",
              "    <tr>\n",
              "        <td>От 3 до 6 лет</td>\n",
              "        <td>198949</td>\n",
              "        <td>290589</td>\n",
              "        <td>243115</td>\n",
              "    </tr>\n",
              "</table>"
            ],
            "text/plain": [
              "[('От 3 до 6 лет', Decimal('198949'), Decimal('290589'), Decimal('243115'))]"
            ]
          },
          "execution_count": 66,
          "metadata": {},
          "output_type": "execute_result"
        }
      ],
      "source": [
        "%%sql\n",
        "\n",
        "SELECT \n",
        "  x.experience,\n",
        "  ROUND(AVG(x.salary_from)) salary_avg_from,\n",
        "  ROUND(AVG(x.salary_to)) salary_avg_to, \n",
        "  ROUND(AVG((COALESCE(x.salary_from, x.salary_to) + COALESCE(x.salary_to, x.salary_from))/2)) salary_avg\n",
        "FROM (\n",
        "  SELECT  \n",
        "    *\n",
        "  FROM vacancies v \n",
        "  WHERE v.name ILIKE ANY (\n",
        "    VALUES ('%data scientist%'),\n",
        "           ('%data science%'),\n",
        "           ('%исследователь данных%'),\n",
        "           ('%machine learning%'),\n",
        "           ('%машинн%обучен%')\n",
        "  ) OR v.name LIKE '%ML%' AND NOT v.name LIKE '%HTML%'\n",
        ") as x\n",
        "WHERE x.salary_from IS NOT NULL OR x.salary_to IS NOT NULL\n",
        "GROUP BY x.experience\n",
        "HAVING x.experience LIKE 'От 3 до 6 лет';\n"
      ]
    },
    {
      "cell_type": "markdown",
      "metadata": {
        "id": "oQMp-RpsYxwO"
      },
      "source": [
        "Вывод\n",
        "\n",
        "Довольно высокий уровень средней зарплаты специалистов из области DS с опытом работы от 3 до 6 лет. С увереностью можно лишь сказать, что и требования к данным специалистам будут такими же высокими."
      ]
    },
    {
      "cell_type": "markdown",
      "metadata": {
        "id": "nokw9nl_YxwO"
      },
      "source": [
        "---"
      ]
    },
    {
      "cell_type": "markdown",
      "metadata": {
        "id": "oaX5d6rOYxwP"
      },
      "source": [
        "### Дополнительный анализ данных о вакансиях и работодателях.\n"
      ]
    },
    {
      "cell_type": "markdown",
      "metadata": {
        "id": "8t3Jn04ZYxwP"
      },
      "source": [
        "#### Топ 10 типов вакансий\n",
        "\n",
        "Распределение количества вокансий по популярности"
      ]
    },
    {
      "cell_type": "code",
      "execution_count": null,
      "metadata": {
        "colab": {
          "base_uri": "https://localhost:8080/",
          "height": 272
        },
        "id": "n-NQi_-iYxwP",
        "outputId": "024193b0-e87d-45f7-d922-f4f15eb78cea"
      },
      "outputs": [
        {
          "name": "stdout",
          "output_type": "stream",
          "text": [
            "10 rows affected.\n"
          ]
        },
        {
          "data": {
            "text/html": [
              "<table>\n",
              "    <tr>\n",
              "        <th>name</th>\n",
              "        <th>count</th>\n",
              "    </tr>\n",
              "    <tr>\n",
              "        <td>Системный администратор</td>\n",
              "        <td>1761</td>\n",
              "    </tr>\n",
              "    <tr>\n",
              "        <td>Программист 1С</td>\n",
              "        <td>1153</td>\n",
              "    </tr>\n",
              "    <tr>\n",
              "        <td>Бизнес-аналитик</td>\n",
              "        <td>488</td>\n",
              "    </tr>\n",
              "    <tr>\n",
              "        <td>Специалист технической поддержки</td>\n",
              "        <td>457</td>\n",
              "    </tr>\n",
              "    <tr>\n",
              "        <td>Системный аналитик</td>\n",
              "        <td>432</td>\n",
              "    </tr>\n",
              "    <tr>\n",
              "        <td>Аналитик</td>\n",
              "        <td>404</td>\n",
              "    </tr>\n",
              "    <tr>\n",
              "        <td>Инженер-программист</td>\n",
              "        <td>389</td>\n",
              "    </tr>\n",
              "    <tr>\n",
              "        <td>Программист 1C</td>\n",
              "        <td>360</td>\n",
              "    </tr>\n",
              "    <tr>\n",
              "        <td>Frontend-разработчик</td>\n",
              "        <td>242</td>\n",
              "    </tr>\n",
              "    <tr>\n",
              "        <td>Инженер технической поддержки</td>\n",
              "        <td>230</td>\n",
              "    </tr>\n",
              "</table>"
            ],
            "text/plain": [
              "[('Системный администратор', 1761),\n",
              " ('Программист 1С', 1153),\n",
              " ('Бизнес-аналитик', 488),\n",
              " ('Специалист технической поддержки', 457),\n",
              " ('Системный аналитик', 432),\n",
              " ('Аналитик', 404),\n",
              " ('Инженер-программист', 389),\n",
              " ('Программист 1C', 360),\n",
              " ('Frontend-разработчик', 242),\n",
              " ('Инженер технической поддержки', 230)]"
            ]
          },
          "execution_count": 67,
          "metadata": {},
          "output_type": "execute_result"
        }
      ],
      "source": [
        "%%sql\n",
        "\n",
        "SELECT  \n",
        "  v.name,\n",
        "  COUNT(*)\n",
        "FROM vacancies v \n",
        "GROUP BY v.name\n",
        "ORDER BY COUNT DESC\n",
        "LIMIT 10;"
      ]
    },
    {
      "cell_type": "markdown",
      "metadata": {
        "id": "VofrVNOSYxwQ"
      },
      "source": [
        "Вывод\n",
        "\n",
        "Так как формулировка \"Системный администратор\" предполагает довольно широкий круг деятельности и является собирательной для разнообразных как систем так и подходов к администрированию и зачастую является стартовым направлением в другие, более специализированные направления в IT, то с уверенностью можно сказать, что по более узкой специализации наибольшее количество вакансий в позиции \"Программист 1С\", что и подтверждается фактами о дефиците данных специалистов и \"перегретых\" зарплатах. Связанно это с фактической монопольностью продуктов фирмы \"1С\" на рынке в востребованном сегменте финансового и бухгалтерского п/о."
      ]
    },
    {
      "cell_type": "markdown",
      "metadata": {
        "id": "dvQ9daGAYxwQ"
      },
      "source": [
        "#### Сфера образования\n",
        "\n",
        "Количество вакансий для преподователей и учителей"
      ]
    },
    {
      "cell_type": "code",
      "execution_count": null,
      "metadata": {
        "colab": {
          "base_uri": "https://localhost:8080/",
          "height": 315
        },
        "id": "obr6XjseYxwR",
        "outputId": "6a98539c-dd54-46b9-fb1c-11ee1cf3c350"
      },
      "outputs": [
        {
          "name": "stdout",
          "output_type": "stream",
          "text": [
            "12 rows affected.\n"
          ]
        },
        {
          "data": {
            "text/html": [
              "<table>\n",
              "    <tr>\n",
              "        <th>name</th>\n",
              "        <th>count</th>\n",
              "    </tr>\n",
              "    <tr>\n",
              "        <td>Учитель информатики</td>\n",
              "        <td>8</td>\n",
              "    </tr>\n",
              "    <tr>\n",
              "        <td>Junior+/Middle Go Разработчик - Ментор</td>\n",
              "        <td>1</td>\n",
              "    </tr>\n",
              "    <tr>\n",
              "        <td>Python разработчик (ментор)</td>\n",
              "        <td>1</td>\n",
              "    </tr>\n",
              "    <tr>\n",
              "        <td>Водитель - инструктор категории Е к С</td>\n",
              "        <td>1</td>\n",
              "    </tr>\n",
              "    <tr>\n",
              "        <td>Ментор курса «Разработка и продвижение Web-проектов»</td>\n",
              "        <td>1</td>\n",
              "    </tr>\n",
              "    <tr>\n",
              "        <td>Ментор курса Разработка программного обеспечения</td>\n",
              "        <td>1</td>\n",
              "    </tr>\n",
              "    <tr>\n",
              "        <td>Ментор на курс (React, Python)</td>\n",
              "        <td>1</td>\n",
              "    </tr>\n",
              "    <tr>\n",
              "        <td>Преподаватель/учитель школы дизайна и архитектуры</td>\n",
              "        <td>1</td>\n",
              "    </tr>\n",
              "    <tr>\n",
              "        <td>Учитель информатики и программирования</td>\n",
              "        <td>1</td>\n",
              "    </tr>\n",
              "    <tr>\n",
              "        <td>Учитель информатики/программирования</td>\n",
              "        <td>1</td>\n",
              "    </tr>\n",
              "    <tr>\n",
              "        <td>Frontend - ментор/инструктор в IT компанию</td>\n",
              "        <td>1</td>\n",
              "    </tr>\n",
              "    <tr>\n",
              "        <td>Учитель на курс по Python Русская группа</td>\n",
              "        <td>1</td>\n",
              "    </tr>\n",
              "</table>"
            ],
            "text/plain": [
              "[('Учитель информатики', 8),\n",
              " ('Junior+/Middle Go Разработчик - Ментор', 1),\n",
              " ('Python разработчик (ментор)', 1),\n",
              " ('Водитель - инструктор категории Е к С', 1),\n",
              " ('Ментор курса «Разработка и продвижение Web-проектов»', 1),\n",
              " ('Ментор курса Разработка программного обеспечения', 1),\n",
              " ('Ментор на курс (React, Python)', 1),\n",
              " ('Преподаватель/учитель школы дизайна и архитектуры', 1),\n",
              " ('Учитель информатики и программирования', 1),\n",
              " ('Учитель информатики/программирования', 1),\n",
              " ('Frontend - ментор/инструктор в IT компанию', 1),\n",
              " ('Учитель на курс по Python Русская группа', 1)]"
            ]
          },
          "execution_count": 68,
          "metadata": {},
          "output_type": "execute_result"
        }
      ],
      "source": [
        "%%sql\n",
        "\n",
        "SELECT  \n",
        "  v.name,\n",
        "  COUNT(*)\n",
        "FROM vacancies v \n",
        "WHERE v.name ILIKE '%преподователь%' \n",
        "   OR v.name ILIKE '%учитель%'\n",
        "   OR v.name ILIKE '%инструктор%'\n",
        "   OR v.name ILIKE '%ментор%'\n",
        "GROUP BY v.name\n",
        "ORDER BY COUNT DESC\n",
        "LIMIT 15;\n"
      ]
    },
    {
      "cell_type": "markdown",
      "metadata": {
        "id": "6yCFQSbrYxwR"
      },
      "source": [
        "Вывод\n",
        "\n",
        "Как видим, на фоне того, что  в сфере образования вакансий крайне мало, выделяется позицию \"Учитель информатики\", что говорит о либо о нехватке данных преподавателей, либо о низкой заработной плате по данной позиции. А скорее всего и того и другого одновременно. Бизнес сфера для специалистов по информатике предлагает лучшее условия, чем образовательная деятельность в школе. "
      ]
    },
    {
      "cell_type": "markdown",
      "metadata": {},
      "source": [
        "#### Регионы-миллионники\n",
        "  Список регионов-миллионников с количеством вакансий в этих регионах."
      ]
    },
    {
      "cell_type": "code",
      "execution_count": 11,
      "metadata": {},
      "outputs": [
        {
          "name": "stdout",
          "output_type": "stream",
          "text": [
            "17 rows affected.\n"
          ]
        },
        {
          "data": {
            "text/html": [
              "<table>\n",
              "    <tr>\n",
              "        <th>area_name</th>\n",
              "        <th>vacancies_count</th>\n",
              "    </tr>\n",
              "    <tr>\n",
              "        <td>*Всего вакансий</td>\n",
              "        <td>23856</td>\n",
              "    </tr>\n",
              "    <tr>\n",
              "        <td>Москва</td>\n",
              "        <td>5333</td>\n",
              "    </tr>\n",
              "    <tr>\n",
              "        <td>Санкт-Петербург</td>\n",
              "        <td>2851</td>\n",
              "    </tr>\n",
              "    <tr>\n",
              "        <td>Новосибирск</td>\n",
              "        <td>2006</td>\n",
              "    </tr>\n",
              "    <tr>\n",
              "        <td>Екатеринбург</td>\n",
              "        <td>1698</td>\n",
              "    </tr>\n",
              "    <tr>\n",
              "        <td>Нижний Новгород</td>\n",
              "        <td>1670</td>\n",
              "    </tr>\n",
              "    <tr>\n",
              "        <td>Казань</td>\n",
              "        <td>1415</td>\n",
              "    </tr>\n",
              "    <tr>\n",
              "        <td>Краснодар</td>\n",
              "        <td>1301</td>\n",
              "    </tr>\n",
              "    <tr>\n",
              "        <td>Самара</td>\n",
              "        <td>1144</td>\n",
              "    </tr>\n",
              "    <tr>\n",
              "        <td>Ростов-на-Дону</td>\n",
              "        <td>1131</td>\n",
              "    </tr>\n",
              "    <tr>\n",
              "        <td>Воронеж</td>\n",
              "        <td>1063</td>\n",
              "    </tr>\n",
              "    <tr>\n",
              "        <td>Красноярск</td>\n",
              "        <td>847</td>\n",
              "    </tr>\n",
              "    <tr>\n",
              "        <td>Челябинск</td>\n",
              "        <td>786</td>\n",
              "    </tr>\n",
              "    <tr>\n",
              "        <td>Пермь</td>\n",
              "        <td>771</td>\n",
              "    </tr>\n",
              "    <tr>\n",
              "        <td>Уфа</td>\n",
              "        <td>767</td>\n",
              "    </tr>\n",
              "    <tr>\n",
              "        <td>Омск</td>\n",
              "        <td>617</td>\n",
              "    </tr>\n",
              "    <tr>\n",
              "        <td>Волгоград</td>\n",
              "        <td>456</td>\n",
              "    </tr>\n",
              "</table>"
            ],
            "text/plain": [
              "[('*Всего вакансий', 23856),\n",
              " ('Москва', 5333),\n",
              " ('Санкт-Петербург', 2851),\n",
              " ('Новосибирск', 2006),\n",
              " ('Екатеринбург', 1698),\n",
              " ('Нижний Новгород', 1670),\n",
              " ('Казань', 1415),\n",
              " ('Краснодар', 1301),\n",
              " ('Самара', 1144),\n",
              " ('Ростов-на-Дону', 1131),\n",
              " ('Воронеж', 1063),\n",
              " ('Красноярск', 847),\n",
              " ('Челябинск', 786),\n",
              " ('Пермь', 771),\n",
              " ('Уфа', 767),\n",
              " ('Омск', 617),\n",
              " ('Волгоград', 456)]"
            ]
          },
          "execution_count": 11,
          "metadata": {},
          "output_type": "execute_result"
        }
      ],
      "source": [
        "%%sql\n",
        "\n",
        "(\n",
        "  SELECT \n",
        "    -- 'Total' area_name,\n",
        "    '*Всего вакансий' area_name,\n",
        "    COUNT(*) vacancies_count\n",
        "  FROM vacancies v\n",
        "  JOIN areas a ON v.area_id = a.id\n",
        "  WHERE a.name IN :city_params\n",
        ")\n",
        "UNION ALL\n",
        "(\n",
        "  SELECT \n",
        "    a.name area_name,\n",
        "    COUNT(*) vacancies_count\n",
        "  FROM vacancies v\n",
        "  JOIN areas a ON v.area_id = a.id\n",
        "  WHERE a.name IN :city_params\n",
        "  GROUP BY v.area_id, a.name\n",
        ")\n",
        "ORDER BY vacancies_count DESC;"
      ]
    },
    {
      "cell_type": "markdown",
      "metadata": {},
      "source": [
        "Вывод\n",
        "\n",
        "Около 50% всех вакансий сосредоточенно в городах-миллиониках. Столица ожидаемо лидирует, остальные значения по количеству соответствуют размеру региона и удаленности от основного бизнес центра страны."
      ]
    },
    {
      "cell_type": "markdown",
      "metadata": {
        "id": "B9Wpf38QYxwR"
      },
      "source": [
        "##  Закрытие подключения к БД"
      ]
    },
    {
      "cell_type": "code",
      "execution_count": null,
      "metadata": {
        "id": "8lYSYtv7YxwR"
      },
      "outputs": [],
      "source": [
        "### Закрываем подключения %sql\n",
        "###\n",
        "connections = %sql -l\n",
        "for cnn in connections.values(): \n",
        "    cnn.session.close()\n",
        "connections.clear()"
      ]
    },
    {
      "cell_type": "markdown",
      "metadata": {
        "id": "3jVsdqheYxwT"
      },
      "source": [
        "# Общий вывод\n",
        "\n",
        "-  Функционал DDL и DML современных реляционных СУБД, различные OLAP расширения языка запросов SQL позволяют провести большую часть работы по подготовке и анализу данных, выявлению основных и значимых признаков для машинного обучения. \n",
        "\n",
        "-  Знание языка запросов SQL в контексте работы с реляционными СУБД, умение применять его при обработке и анализе больших данных, а так же умения оптимизировать запросы SQL может дать значительные конкурентные преимущества при карьерном росте на старте в позиции специалиста в области Data Scince. И не только на старте. Реляционные базы стали практическим стандартом для хранения и обработки малых и больших массивов данных в информационных и технологических системах от встраиваемых СУБД типа SQLite, различных \"настольных\" в составе разнообразных офисных пакетов, интеграционных универсалов MySQL и PostgreSQL, до гигантских кластеров данных на базе решений Oracle, DB2 и MSSQL.\n",
        "\n",
        "-  Не смотря на то, что с помощью конструкций языка SQL можно провести большую подготовительную работу по предварительному анализу данных, находящихся в хранилищах современных реляционных СУБД, до того как данные будут готовы для построения модели требуется затратить еще много времени и сил для их подготовке к моделированию и машинному обучению.\n",
        "\n",
        "\n"
      ]
    },
    {
      "cell_type": "markdown",
      "metadata": {
        "id": "MUzS_oMHYxwT"
      },
      "source": [
        "*SF DST-148 Дмитрий Орлов Февраль 2023*\n",
        "\n",
        "<a href=\"https://skillfactory.ru/courses/data-science\">\n",
        "    <img src=\"https://raw.githubusercontent.com/dhegl/sf_ds/64c052f95af5d042844ed56f765c2cbb566d1680/main/static/small.svg\" alt=\"Онлайн-школа SkillFactory Курсы по Data Science\" width=\"120px\" align=\"left\" >\n",
        "</a>"
      ]
    }
  ],
  "metadata": {
    "colab": {
      "provenance": []
    },
    "kernelspec": {
      "display_name": "Python 3 (ipykernel)",
      "language": "python",
      "name": "python3"
    },
    "language_info": {
      "codemirror_mode": {
        "name": "ipython",
        "version": 3
      },
      "file_extension": ".py",
      "mimetype": "text/x-python",
      "name": "python",
      "nbconvert_exporter": "python",
      "pygments_lexer": "ipython3",
      "version": "3.7.9"
    },
    "vscode": {
      "interpreter": {
        "hash": "2d2245dee3e47a06598c05ac2ce38a94652be2a6b907159511229a5c3dc5dcc2"
      }
    }
  },
  "nbformat": 4,
  "nbformat_minor": 0
}
